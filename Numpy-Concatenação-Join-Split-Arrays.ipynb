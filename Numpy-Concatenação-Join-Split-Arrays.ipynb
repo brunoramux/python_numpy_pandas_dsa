{
 "cells": [
  {
   "cell_type": "markdown",
   "metadata": {},
   "source": [
    "## NumPy"
   ]
  },
  {
   "cell_type": "markdown",
   "metadata": {},
   "source": [
    "NumPy oferece sequências de elementos que são mais eficientes que sequências padrões em Python."
   ]
  },
  {
   "cell_type": "code",
   "execution_count": 2,
   "metadata": {},
   "outputs": [
    {
     "name": "stdout",
     "output_type": "stream",
     "text": [
      "3.11.7 (main, Dec 15 2023, 12:09:56) [Clang 14.0.6 ]\n"
     ]
    },
    {
     "data": {
      "text/plain": [
       "'2.0.0'"
      ]
     },
     "execution_count": 2,
     "metadata": {},
     "output_type": "execute_result"
    }
   ],
   "source": [
    "import sys\n",
    "import numpy as np\n",
    "print(sys.version)\n",
    "np.__version__"
   ]
  },
  {
   "cell_type": "markdown",
   "metadata": {},
   "source": [
    "## Concatenando Arrays"
   ]
  },
  {
   "cell_type": "code",
   "execution_count": 3,
   "metadata": {},
   "outputs": [],
   "source": [
    "array1 = np.ones(4)"
   ]
  },
  {
   "cell_type": "code",
   "execution_count": 4,
   "metadata": {
    "collapsed": true
   },
   "outputs": [],
   "source": [
    "array2 = np.arange(15)"
   ]
  },
  {
   "cell_type": "code",
   "execution_count": 5,
   "metadata": {},
   "outputs": [],
   "source": [
    "array_conc = np.concatenate((array1, array2))"
   ]
  },
  {
   "cell_type": "code",
   "execution_count": 6,
   "metadata": {},
   "outputs": [
    {
     "data": {
      "text/plain": [
       "array([ 1.,  1.,  1.,  1.,  0.,  1.,  2.,  3.,  4.,  5.,  6.,  7.,  8.,\n",
       "        9., 10., 11., 12., 13., 14.])"
      ]
     },
     "execution_count": 6,
     "metadata": {},
     "output_type": "execute_result"
    }
   ],
   "source": [
    "array_conc"
   ]
  },
  {
   "cell_type": "markdown",
   "metadata": {},
   "source": [
    "## Joining Arrays"
   ]
  },
  {
   "cell_type": "code",
   "execution_count": 7,
   "metadata": {
    "collapsed": true
   },
   "outputs": [],
   "source": [
    "a = np.ones((3,3))\n",
    "b = np.zeros((3,3))"
   ]
  },
  {
   "cell_type": "code",
   "execution_count": 8,
   "metadata": {},
   "outputs": [
    {
     "name": "stdout",
     "output_type": "stream",
     "text": [
      "[[1. 1. 1.]\n",
      " [1. 1. 1.]\n",
      " [1. 1. 1.]]\n"
     ]
    }
   ],
   "source": [
    "print(a)"
   ]
  },
  {
   "cell_type": "code",
   "execution_count": 9,
   "metadata": {},
   "outputs": [
    {
     "name": "stdout",
     "output_type": "stream",
     "text": [
      "[[0. 0. 0.]\n",
      " [0. 0. 0.]\n",
      " [0. 0. 0.]]\n"
     ]
    }
   ],
   "source": [
    "print(b)"
   ]
  },
  {
   "cell_type": "code",
   "execution_count": 10,
   "metadata": {},
   "outputs": [
    {
     "name": "stdout",
     "output_type": "stream",
     "text": [
      "\u001b[0;31mSignature:\u001b[0m       \u001b[0mnp\u001b[0m\u001b[0;34m.\u001b[0m\u001b[0mvstack\u001b[0m\u001b[0;34m(\u001b[0m\u001b[0mtup\u001b[0m\u001b[0;34m,\u001b[0m \u001b[0;34m*\u001b[0m\u001b[0;34m,\u001b[0m \u001b[0mdtype\u001b[0m\u001b[0;34m=\u001b[0m\u001b[0;32mNone\u001b[0m\u001b[0;34m,\u001b[0m \u001b[0mcasting\u001b[0m\u001b[0;34m=\u001b[0m\u001b[0;34m'same_kind'\u001b[0m\u001b[0;34m)\u001b[0m\u001b[0;34m\u001b[0m\u001b[0;34m\u001b[0m\u001b[0m\n",
      "\u001b[0;31mCall signature:\u001b[0m  \u001b[0mnp\u001b[0m\u001b[0;34m.\u001b[0m\u001b[0mvstack\u001b[0m\u001b[0;34m(\u001b[0m\u001b[0;34m*\u001b[0m\u001b[0margs\u001b[0m\u001b[0;34m,\u001b[0m \u001b[0;34m**\u001b[0m\u001b[0mkwargs\u001b[0m\u001b[0;34m)\u001b[0m\u001b[0;34m\u001b[0m\u001b[0;34m\u001b[0m\u001b[0m\n",
      "\u001b[0;31mType:\u001b[0m            _ArrayFunctionDispatcher\n",
      "\u001b[0;31mString form:\u001b[0m     <function vstack at 0x1085fab60>\n",
      "\u001b[0;31mFile:\u001b[0m            ~/.local/share/virtualenvs/python_numpy_pandas_dsa-nLp2V0TY/lib/python3.11/site-packages/numpy/_core/shape_base.py\n",
      "\u001b[0;31mDocstring:\u001b[0m      \n",
      "Stack arrays in sequence vertically (row wise).\n",
      "\n",
      "This is equivalent to concatenation along the first axis after 1-D arrays\n",
      "of shape `(N,)` have been reshaped to `(1,N)`. Rebuilds arrays divided by\n",
      "`vsplit`.\n",
      "\n",
      "This function makes most sense for arrays with up to 3 dimensions. For\n",
      "instance, for pixel-data with a height (first axis), width (second axis),\n",
      "and r/g/b channels (third axis). The functions `concatenate`, `stack` and\n",
      "`block` provide more general stacking and concatenation operations.\n",
      "\n",
      "Parameters\n",
      "----------\n",
      "tup : sequence of ndarrays\n",
      "    The arrays must have the same shape along all but the first axis.\n",
      "    1-D arrays must have the same length.\n",
      "\n",
      "dtype : str or dtype\n",
      "    If provided, the destination array will have this dtype. Cannot be\n",
      "    provided together with `out`.\n",
      "\n",
      "    .. versionadded:: 1.24\n",
      "\n",
      "casting : {'no', 'equiv', 'safe', 'same_kind', 'unsafe'}, optional\n",
      "    Controls what kind of data casting may occur. Defaults to 'same_kind'.\n",
      "\n",
      "    .. versionadded:: 1.24\n",
      "\n",
      "Returns\n",
      "-------\n",
      "stacked : ndarray\n",
      "    The array formed by stacking the given arrays, will be at least 2-D.\n",
      "\n",
      "See Also\n",
      "--------\n",
      "concatenate : Join a sequence of arrays along an existing axis.\n",
      "stack : Join a sequence of arrays along a new axis.\n",
      "block : Assemble an nd-array from nested lists of blocks.\n",
      "hstack : Stack arrays in sequence horizontally (column wise).\n",
      "dstack : Stack arrays in sequence depth wise (along third axis).\n",
      "column_stack : Stack 1-D arrays as columns into a 2-D array.\n",
      "vsplit : Split an array into multiple sub-arrays vertically (row-wise).\n",
      "\n",
      "Examples\n",
      "--------\n",
      ">>> a = np.array([1, 2, 3])\n",
      ">>> b = np.array([4, 5, 6])\n",
      ">>> np.vstack((a,b))\n",
      "array([[1, 2, 3],\n",
      "       [4, 5, 6]])\n",
      "\n",
      ">>> a = np.array([[1], [2], [3]])\n",
      ">>> b = np.array([[4], [5], [6]])\n",
      ">>> np.vstack((a,b))\n",
      "array([[1],\n",
      "       [2],\n",
      "       [3],\n",
      "       [4],\n",
      "       [5],\n",
      "       [6]])\n",
      "\u001b[0;31mClass docstring:\u001b[0m\n",
      "Class to wrap functions with checks for __array_function__ overrides.\n",
      "\n",
      "All arguments are required, and can only be passed by position.\n",
      "\n",
      "Parameters\n",
      "----------\n",
      "dispatcher : function or None\n",
      "    The dispatcher function that returns a single sequence-like object\n",
      "    of all arguments relevant.  It must have the same signature (except\n",
      "    the default values) as the actual implementation.\n",
      "    If ``None``, this is a ``like=`` dispatcher and the\n",
      "    ``_ArrayFunctionDispatcher`` must be called with ``like`` as the\n",
      "    first (additional and positional) argument.\n",
      "implementation : function\n",
      "    Function that implements the operation on NumPy arrays without\n",
      "    overrides.  Arguments passed calling the ``_ArrayFunctionDispatcher``\n",
      "    will be forwarded to this (and the ``dispatcher``) as if using\n",
      "    ``*args, **kwargs``.\n",
      "\n",
      "Attributes\n",
      "----------\n",
      "_implementation : function\n",
      "    The original implementation passed in."
     ]
    }
   ],
   "source": [
    "?np.vstack"
   ]
  },
  {
   "cell_type": "code",
   "execution_count": 11,
   "metadata": {
    "collapsed": true
   },
   "outputs": [
    {
     "name": "stdout",
     "output_type": "stream",
     "text": [
      "\u001b[0;31mSignature:\u001b[0m       \u001b[0mnp\u001b[0m\u001b[0;34m.\u001b[0m\u001b[0mhstack\u001b[0m\u001b[0;34m(\u001b[0m\u001b[0mtup\u001b[0m\u001b[0;34m,\u001b[0m \u001b[0;34m*\u001b[0m\u001b[0;34m,\u001b[0m \u001b[0mdtype\u001b[0m\u001b[0;34m=\u001b[0m\u001b[0;32mNone\u001b[0m\u001b[0;34m,\u001b[0m \u001b[0mcasting\u001b[0m\u001b[0;34m=\u001b[0m\u001b[0;34m'same_kind'\u001b[0m\u001b[0;34m)\u001b[0m\u001b[0;34m\u001b[0m\u001b[0;34m\u001b[0m\u001b[0m\n",
      "\u001b[0;31mCall signature:\u001b[0m  \u001b[0mnp\u001b[0m\u001b[0;34m.\u001b[0m\u001b[0mhstack\u001b[0m\u001b[0;34m(\u001b[0m\u001b[0;34m*\u001b[0m\u001b[0margs\u001b[0m\u001b[0;34m,\u001b[0m \u001b[0;34m**\u001b[0m\u001b[0mkwargs\u001b[0m\u001b[0;34m)\u001b[0m\u001b[0;34m\u001b[0m\u001b[0;34m\u001b[0m\u001b[0m\n",
      "\u001b[0;31mType:\u001b[0m            _ArrayFunctionDispatcher\n",
      "\u001b[0;31mString form:\u001b[0m     <function hstack at 0x1085fac00>\n",
      "\u001b[0;31mFile:\u001b[0m            ~/.local/share/virtualenvs/python_numpy_pandas_dsa-nLp2V0TY/lib/python3.11/site-packages/numpy/_core/shape_base.py\n",
      "\u001b[0;31mDocstring:\u001b[0m      \n",
      "Stack arrays in sequence horizontally (column wise).\n",
      "\n",
      "This is equivalent to concatenation along the second axis, except for 1-D\n",
      "arrays where it concatenates along the first axis. Rebuilds arrays divided\n",
      "by `hsplit`.\n",
      "\n",
      "This function makes most sense for arrays with up to 3 dimensions. For\n",
      "instance, for pixel-data with a height (first axis), width (second axis),\n",
      "and r/g/b channels (third axis). The functions `concatenate`, `stack` and\n",
      "`block` provide more general stacking and concatenation operations.\n",
      "\n",
      "Parameters\n",
      "----------\n",
      "tup : sequence of ndarrays\n",
      "    The arrays must have the same shape along all but the second axis,\n",
      "    except 1-D arrays which can be any length.\n",
      "\n",
      "dtype : str or dtype\n",
      "    If provided, the destination array will have this dtype. Cannot be\n",
      "    provided together with `out`.\n",
      "\n",
      "    .. versionadded:: 1.24\n",
      "\n",
      "casting : {'no', 'equiv', 'safe', 'same_kind', 'unsafe'}, optional\n",
      "    Controls what kind of data casting may occur. Defaults to 'same_kind'.\n",
      "\n",
      "    .. versionadded:: 1.24\n",
      "\n",
      "Returns\n",
      "-------\n",
      "stacked : ndarray\n",
      "    The array formed by stacking the given arrays.\n",
      "\n",
      "See Also\n",
      "--------\n",
      "concatenate : Join a sequence of arrays along an existing axis.\n",
      "stack : Join a sequence of arrays along a new axis.\n",
      "block : Assemble an nd-array from nested lists of blocks.\n",
      "vstack : Stack arrays in sequence vertically (row wise).\n",
      "dstack : Stack arrays in sequence depth wise (along third axis).\n",
      "column_stack : Stack 1-D arrays as columns into a 2-D array.\n",
      "hsplit : Split an array into multiple sub-arrays \n",
      "         horizontally (column-wise).\n",
      "\n",
      "Examples\n",
      "--------\n",
      ">>> a = np.array((1,2,3))\n",
      ">>> b = np.array((4,5,6))\n",
      ">>> np.hstack((a,b))\n",
      "array([1, 2, 3, 4, 5, 6])\n",
      ">>> a = np.array([[1],[2],[3]])\n",
      ">>> b = np.array([[4],[5],[6]])\n",
      ">>> np.hstack((a,b))\n",
      "array([[1, 4],\n",
      "       [2, 5],\n",
      "       [3, 6]])\n",
      "\u001b[0;31mClass docstring:\u001b[0m\n",
      "Class to wrap functions with checks for __array_function__ overrides.\n",
      "\n",
      "All arguments are required, and can only be passed by position.\n",
      "\n",
      "Parameters\n",
      "----------\n",
      "dispatcher : function or None\n",
      "    The dispatcher function that returns a single sequence-like object\n",
      "    of all arguments relevant.  It must have the same signature (except\n",
      "    the default values) as the actual implementation.\n",
      "    If ``None``, this is a ``like=`` dispatcher and the\n",
      "    ``_ArrayFunctionDispatcher`` must be called with ``like`` as the\n",
      "    first (additional and positional) argument.\n",
      "implementation : function\n",
      "    Function that implements the operation on NumPy arrays without\n",
      "    overrides.  Arguments passed calling the ``_ArrayFunctionDispatcher``\n",
      "    will be forwarded to this (and the ``dispatcher``) as if using\n",
      "    ``*args, **kwargs``.\n",
      "\n",
      "Attributes\n",
      "----------\n",
      "_implementation : function\n",
      "    The original implementation passed in."
     ]
    }
   ],
   "source": [
    "?np.hstack"
   ]
  },
  {
   "cell_type": "code",
   "execution_count": 12,
   "metadata": {},
   "outputs": [
    {
     "data": {
      "text/plain": [
       "array([[1., 1., 1.],\n",
       "       [1., 1., 1.],\n",
       "       [1., 1., 1.],\n",
       "       [0., 0., 0.],\n",
       "       [0., 0., 0.],\n",
       "       [0., 0., 0.]])"
      ]
     },
     "execution_count": 12,
     "metadata": {},
     "output_type": "execute_result"
    }
   ],
   "source": [
    "# Primeiro preenche as linhas\n",
    "np.vstack((a,b))"
   ]
  },
  {
   "cell_type": "code",
   "execution_count": 13,
   "metadata": {},
   "outputs": [
    {
     "data": {
      "text/plain": [
       "array([[1., 1., 1., 0., 0., 0.],\n",
       "       [1., 1., 1., 0., 0., 0.],\n",
       "       [1., 1., 1., 0., 0., 0.]])"
      ]
     },
     "execution_count": 13,
     "metadata": {},
     "output_type": "execute_result"
    }
   ],
   "source": [
    "# Primeiro preenche as colunas\n",
    "np.hstack((a,b))"
   ]
  },
  {
   "cell_type": "code",
   "execution_count": 14,
   "metadata": {
    "collapsed": true
   },
   "outputs": [],
   "source": [
    "# Joining arrays\n",
    "a = np.array([0, 1, 2])\n",
    "b = np.array([3, 4, 5])\n",
    "c = np.array([6, 7, 8])"
   ]
  },
  {
   "cell_type": "code",
   "execution_count": 15,
   "metadata": {
    "collapsed": true
   },
   "outputs": [
    {
     "name": "stdout",
     "output_type": "stream",
     "text": [
      "\u001b[0;31mSignature:\u001b[0m       \u001b[0mnp\u001b[0m\u001b[0;34m.\u001b[0m\u001b[0mcolumn_stack\u001b[0m\u001b[0;34m(\u001b[0m\u001b[0mtup\u001b[0m\u001b[0;34m)\u001b[0m\u001b[0;34m\u001b[0m\u001b[0;34m\u001b[0m\u001b[0m\n",
      "\u001b[0;31mCall signature:\u001b[0m  \u001b[0mnp\u001b[0m\u001b[0;34m.\u001b[0m\u001b[0mcolumn_stack\u001b[0m\u001b[0;34m(\u001b[0m\u001b[0;34m*\u001b[0m\u001b[0margs\u001b[0m\u001b[0;34m,\u001b[0m \u001b[0;34m**\u001b[0m\u001b[0mkwargs\u001b[0m\u001b[0;34m)\u001b[0m\u001b[0;34m\u001b[0m\u001b[0;34m\u001b[0m\u001b[0m\n",
      "\u001b[0;31mType:\u001b[0m            _ArrayFunctionDispatcher\n",
      "\u001b[0;31mString form:\u001b[0m     <function column_stack at 0x10875fec0>\n",
      "\u001b[0;31mFile:\u001b[0m            ~/.local/share/virtualenvs/python_numpy_pandas_dsa-nLp2V0TY/lib/python3.11/site-packages/numpy/lib/_shape_base_impl.py\n",
      "\u001b[0;31mDocstring:\u001b[0m      \n",
      "Stack 1-D arrays as columns into a 2-D array.\n",
      "\n",
      "Take a sequence of 1-D arrays and stack them as columns\n",
      "to make a single 2-D array. 2-D arrays are stacked as-is,\n",
      "just like with `hstack`.  1-D arrays are turned into 2-D columns\n",
      "first.\n",
      "\n",
      "Parameters\n",
      "----------\n",
      "tup : sequence of 1-D or 2-D arrays.\n",
      "    Arrays to stack. All of them must have the same first dimension.\n",
      "\n",
      "Returns\n",
      "-------\n",
      "stacked : 2-D array\n",
      "    The array formed by stacking the given arrays.\n",
      "\n",
      "See Also\n",
      "--------\n",
      "stack, hstack, vstack, concatenate\n",
      "\n",
      "Examples\n",
      "--------\n",
      ">>> a = np.array((1,2,3))\n",
      ">>> b = np.array((2,3,4))\n",
      ">>> np.column_stack((a,b))\n",
      "array([[1, 2],\n",
      "       [2, 3],\n",
      "       [3, 4]])\n",
      "\u001b[0;31mClass docstring:\u001b[0m\n",
      "Class to wrap functions with checks for __array_function__ overrides.\n",
      "\n",
      "All arguments are required, and can only be passed by position.\n",
      "\n",
      "Parameters\n",
      "----------\n",
      "dispatcher : function or None\n",
      "    The dispatcher function that returns a single sequence-like object\n",
      "    of all arguments relevant.  It must have the same signature (except\n",
      "    the default values) as the actual implementation.\n",
      "    If ``None``, this is a ``like=`` dispatcher and the\n",
      "    ``_ArrayFunctionDispatcher`` must be called with ``like`` as the\n",
      "    first (additional and positional) argument.\n",
      "implementation : function\n",
      "    Function that implements the operation on NumPy arrays without\n",
      "    overrides.  Arguments passed calling the ``_ArrayFunctionDispatcher``\n",
      "    will be forwarded to this (and the ``dispatcher``) as if using\n",
      "    ``*args, **kwargs``.\n",
      "\n",
      "Attributes\n",
      "----------\n",
      "_implementation : function\n",
      "    The original implementation passed in."
     ]
    }
   ],
   "source": [
    "?np.column_stack"
   ]
  },
  {
   "cell_type": "code",
   "execution_count": 16,
   "metadata": {
    "collapsed": true
   },
   "outputs": [
    {
     "name": "stdout",
     "output_type": "stream",
     "text": [
      "\u001b[0;31mSignature:\u001b[0m \u001b[0mnp\u001b[0m\u001b[0;34m.\u001b[0m\u001b[0mrow_stack\u001b[0m\u001b[0;34m(\u001b[0m\u001b[0mtup\u001b[0m\u001b[0;34m,\u001b[0m \u001b[0;34m*\u001b[0m\u001b[0;34m,\u001b[0m \u001b[0mdtype\u001b[0m\u001b[0;34m=\u001b[0m\u001b[0;32mNone\u001b[0m\u001b[0;34m,\u001b[0m \u001b[0mcasting\u001b[0m\u001b[0;34m=\u001b[0m\u001b[0;34m'same_kind'\u001b[0m\u001b[0;34m)\u001b[0m\u001b[0;34m\u001b[0m\u001b[0;34m\u001b[0m\u001b[0m\n",
      "\u001b[0;31mDocstring:\u001b[0m\n",
      "Stack arrays in sequence vertically (row wise).\n",
      "\n",
      "This is equivalent to concatenation along the first axis after 1-D arrays\n",
      "of shape `(N,)` have been reshaped to `(1,N)`. Rebuilds arrays divided by\n",
      "`vsplit`.\n",
      "\n",
      "This function makes most sense for arrays with up to 3 dimensions. For\n",
      "instance, for pixel-data with a height (first axis), width (second axis),\n",
      "and r/g/b channels (third axis). The functions `concatenate`, `stack` and\n",
      "`block` provide more general stacking and concatenation operations.\n",
      "\n",
      "Parameters\n",
      "----------\n",
      "tup : sequence of ndarrays\n",
      "    The arrays must have the same shape along all but the first axis.\n",
      "    1-D arrays must have the same length.\n",
      "\n",
      "dtype : str or dtype\n",
      "    If provided, the destination array will have this dtype. Cannot be\n",
      "    provided together with `out`.\n",
      "\n",
      "    .. versionadded:: 1.24\n",
      "\n",
      "casting : {'no', 'equiv', 'safe', 'same_kind', 'unsafe'}, optional\n",
      "    Controls what kind of data casting may occur. Defaults to 'same_kind'.\n",
      "\n",
      "    .. versionadded:: 1.24\n",
      "\n",
      "Returns\n",
      "-------\n",
      "stacked : ndarray\n",
      "    The array formed by stacking the given arrays, will be at least 2-D.\n",
      "\n",
      "See Also\n",
      "--------\n",
      "concatenate : Join a sequence of arrays along an existing axis.\n",
      "stack : Join a sequence of arrays along a new axis.\n",
      "block : Assemble an nd-array from nested lists of blocks.\n",
      "hstack : Stack arrays in sequence horizontally (column wise).\n",
      "dstack : Stack arrays in sequence depth wise (along third axis).\n",
      "column_stack : Stack 1-D arrays as columns into a 2-D array.\n",
      "vsplit : Split an array into multiple sub-arrays vertically (row-wise).\n",
      "\n",
      "Examples\n",
      "--------\n",
      ">>> a = np.array([1, 2, 3])\n",
      ">>> b = np.array([4, 5, 6])\n",
      ">>> np.vstack((a,b))\n",
      "array([[1, 2, 3],\n",
      "       [4, 5, 6]])\n",
      "\n",
      ">>> a = np.array([[1], [2], [3]])\n",
      ">>> b = np.array([[4], [5], [6]])\n",
      ">>> np.vstack((a,b))\n",
      "array([[1],\n",
      "       [2],\n",
      "       [3],\n",
      "       [4],\n",
      "       [5],\n",
      "       [6]])\n",
      "\u001b[0;31mFile:\u001b[0m      ~/.local/share/virtualenvs/python_numpy_pandas_dsa-nLp2V0TY/lib/python3.11/site-packages/numpy/lib/_shape_base_impl.py\n",
      "\u001b[0;31mType:\u001b[0m      function"
     ]
    }
   ],
   "source": [
    "?np.row_stack"
   ]
  },
  {
   "cell_type": "code",
   "execution_count": 17,
   "metadata": {},
   "outputs": [
    {
     "data": {
      "text/plain": [
       "array([[0, 3, 6],\n",
       "       [1, 4, 7],\n",
       "       [2, 5, 8]])"
      ]
     },
     "execution_count": 17,
     "metadata": {},
     "output_type": "execute_result"
    }
   ],
   "source": [
    "np.column_stack((a, b, c))"
   ]
  },
  {
   "cell_type": "code",
   "execution_count": 18,
   "metadata": {},
   "outputs": [
    {
     "name": "stderr",
     "output_type": "stream",
     "text": [
      "/var/folders/5z/nms2vp9s0_1dm1130xnk264w0000gn/T/ipykernel_51739/3069552908.py:1: DeprecationWarning: `row_stack` alias is deprecated. Use `np.vstack` directly.\n",
      "  np.row_stack((a, b, c))\n"
     ]
    },
    {
     "data": {
      "text/plain": [
       "array([[0, 1, 2],\n",
       "       [3, 4, 5],\n",
       "       [6, 7, 8]])"
      ]
     },
     "execution_count": 18,
     "metadata": {},
     "output_type": "execute_result"
    }
   ],
   "source": [
    "np.row_stack((a, b, c))"
   ]
  },
  {
   "cell_type": "markdown",
   "metadata": {},
   "source": [
    "## Split Arrays"
   ]
  },
  {
   "cell_type": "code",
   "execution_count": 19,
   "metadata": {},
   "outputs": [
    {
     "data": {
      "text/plain": [
       "array([[ 0,  1,  2,  3],\n",
       "       [ 4,  5,  6,  7],\n",
       "       [ 8,  9, 10, 11],\n",
       "       [12, 13, 14, 15]])"
      ]
     },
     "execution_count": 19,
     "metadata": {},
     "output_type": "execute_result"
    }
   ],
   "source": [
    "array3 = np.arange(16).reshape((4,4)); array3"
   ]
  },
  {
   "cell_type": "code",
   "execution_count": 20,
   "metadata": {},
   "outputs": [],
   "source": [
    "[array3_p1, array3_p2] = np.hsplit(array3, 2)"
   ]
  },
  {
   "cell_type": "code",
   "execution_count": 21,
   "metadata": {},
   "outputs": [
    {
     "data": {
      "text/plain": [
       "array([[ 0,  1],\n",
       "       [ 4,  5],\n",
       "       [ 8,  9],\n",
       "       [12, 13]])"
      ]
     },
     "execution_count": 21,
     "metadata": {},
     "output_type": "execute_result"
    }
   ],
   "source": [
    "array3_p1"
   ]
  },
  {
   "cell_type": "code",
   "execution_count": 22,
   "metadata": {},
   "outputs": [
    {
     "data": {
      "text/plain": [
       "array([[ 2,  3],\n",
       "       [ 6,  7],\n",
       "       [10, 11],\n",
       "       [14, 15]])"
      ]
     },
     "execution_count": 22,
     "metadata": {},
     "output_type": "execute_result"
    }
   ],
   "source": [
    "array3_p2"
   ]
  },
  {
   "cell_type": "code",
   "execution_count": 23,
   "metadata": {},
   "outputs": [],
   "source": [
    "[array3_p1, array3_p2] = np.vsplit(array3, 2)"
   ]
  },
  {
   "cell_type": "code",
   "execution_count": 24,
   "metadata": {},
   "outputs": [
    {
     "data": {
      "text/plain": [
       "array([[0, 1, 2, 3],\n",
       "       [4, 5, 6, 7]])"
      ]
     },
     "execution_count": 24,
     "metadata": {},
     "output_type": "execute_result"
    }
   ],
   "source": [
    "array3_p1"
   ]
  },
  {
   "cell_type": "code",
   "execution_count": 25,
   "metadata": {},
   "outputs": [
    {
     "data": {
      "text/plain": [
       "array([[ 8,  9, 10, 11],\n",
       "       [12, 13, 14, 15]])"
      ]
     },
     "execution_count": 25,
     "metadata": {},
     "output_type": "execute_result"
    }
   ],
   "source": [
    "array3_p2"
   ]
  },
  {
   "cell_type": "markdown",
   "metadata": {},
   "source": [
    "## Gravando e Cerragendo Dados com NumPy"
   ]
  },
  {
   "cell_type": "code",
   "execution_count": 26,
   "metadata": {
    "collapsed": true
   },
   "outputs": [],
   "source": [
    "dados = array3"
   ]
  },
  {
   "cell_type": "code",
   "execution_count": 27,
   "metadata": {
    "collapsed": true
   },
   "outputs": [],
   "source": [
    "np.save('dados_saved_v1', dados)"
   ]
  },
  {
   "cell_type": "code",
   "execution_count": 28,
   "metadata": {
    "collapsed": true
   },
   "outputs": [],
   "source": [
    "loaded_data = np.load('dados_saved_v1.npy')"
   ]
  },
  {
   "cell_type": "code",
   "execution_count": 29,
   "metadata": {},
   "outputs": [
    {
     "data": {
      "text/plain": [
       "array([[ 0,  1,  2,  3],\n",
       "       [ 4,  5,  6,  7],\n",
       "       [ 8,  9, 10, 11],\n",
       "       [12, 13, 14, 15]])"
      ]
     },
     "execution_count": 29,
     "metadata": {},
     "output_type": "execute_result"
    }
   ],
   "source": [
    "loaded_data"
   ]
  }
 ],
 "metadata": {
  "anaconda-cloud": {},
  "kernelspec": {
   "display_name": "Python 3",
   "language": "python",
   "name": "python3"
  },
  "language_info": {
   "codemirror_mode": {
    "name": "ipython",
    "version": 3
   },
   "file_extension": ".py",
   "mimetype": "text/x-python",
   "name": "python",
   "nbconvert_exporter": "python",
   "pygments_lexer": "ipython3",
   "version": "3.11.7"
  }
 },
 "nbformat": 4,
 "nbformat_minor": 1
}
