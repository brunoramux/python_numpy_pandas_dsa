{
 "cells": [
  {
   "cell_type": "markdown",
   "metadata": {},
   "source": [
    "# <font color='blue'>Data Science Academy - Big Data Real-Time Analytics com Python e Spark</font>\n",
    "# <font color='blue'>Capítulo 3</font>"
   ]
  },
  {
   "cell_type": "markdown",
   "metadata": {},
   "source": [
    "****** Este Jupyter Notebook foi atualizado para a versão 3.6.1. da Linguagem Python em 13/06/2017 ******"
   ]
  },
  {
   "cell_type": "markdown",
   "metadata": {},
   "source": [
    "## Séries Temporais"
   ]
  },
  {
   "cell_type": "code",
   "execution_count": 1,
   "metadata": {},
   "outputs": [
    {
     "name": "stdout",
     "output_type": "stream",
     "text": [
      "Requirement already satisfied (use --upgrade to upgrade): pandas_datareader in /Users/dmpm/anaconda/lib/python3.5/site-packages\r\n",
      "Requirement already satisfied (use --upgrade to upgrade): requests-file in /Users/dmpm/anaconda/lib/python3.5/site-packages (from pandas_datareader)\r\n",
      "Requirement already satisfied (use --upgrade to upgrade): pandas in /Users/dmpm/anaconda/lib/python3.5/site-packages (from pandas_datareader)\r\n",
      "Requirement already satisfied (use --upgrade to upgrade): requests in /Users/dmpm/anaconda/lib/python3.5/site-packages (from pandas_datareader)\r\n",
      "Requirement already satisfied (use --upgrade to upgrade): six in /Users/dmpm/anaconda/lib/python3.5/site-packages (from requests-file->pandas_datareader)\r\n",
      "Requirement already satisfied (use --upgrade to upgrade): python-dateutil>=2 in /Users/dmpm/anaconda/lib/python3.5/site-packages (from pandas->pandas_datareader)\r\n",
      "Requirement already satisfied (use --upgrade to upgrade): pytz>=2011k in /Users/dmpm/anaconda/lib/python3.5/site-packages (from pandas->pandas_datareader)\r\n",
      "Requirement already satisfied (use --upgrade to upgrade): numpy>=1.7.0 in /Users/dmpm/anaconda/lib/python3.5/site-packages (from pandas->pandas_datareader)\r\n"
     ]
    }
   ],
   "source": [
    "!pip install pandas_datareader"
   ]
  },
  {
   "cell_type": "code",
   "execution_count": 2,
   "metadata": {},
   "outputs": [],
   "source": [
    "import datetime\n",
    "import pandas as pd\n",
    "import numpy as np\n",
    "import pandas_datareader.data as web\n",
    "import matplotlib.pyplot as plt\n",
    "from matplotlib import style\n",
    "%matplotlib inline  "
   ]
  },
  {
   "cell_type": "code",
   "execution_count": 3,
   "metadata": {},
   "outputs": [],
   "source": [
    "style.use('fivethirtyeight')"
   ]
  },
  {
   "cell_type": "code",
   "execution_count": 4,
   "metadata": {},
   "outputs": [
    {
     "name": "stdout",
     "output_type": "stream",
     "text": [
      "Help on function use in module matplotlib.style.core:\n",
      "\n",
      "use(style)\n",
      "    Use matplotlib style settings from a style specification.\n",
      "    \n",
      "    The style name of 'default' is reserved for reverting back to\n",
      "    the default style settings.\n",
      "    \n",
      "    Parameters\n",
      "    ----------\n",
      "    style : str, dict, or list\n",
      "        A style specification. Valid options are:\n",
      "    \n",
      "        +------+-------------------------------------------------------------+\n",
      "        | str  | The name of a style or a path/URL to a style file. For a    |\n",
      "        |      | list of available style names, see `style.available`.       |\n",
      "        +------+-------------------------------------------------------------+\n",
      "        | dict | Dictionary with valid key/value pairs for                   |\n",
      "        |      | `matplotlib.rcParams`.                                      |\n",
      "        +------+-------------------------------------------------------------+\n",
      "        | list | A list of style specifiers (str or dict) applied from first |\n",
      "        |      | to last in the list.                                        |\n",
      "        +------+-------------------------------------------------------------+\n",
      "\n"
     ]
    }
   ],
   "source": [
    "help(style.use)"
   ]
  },
  {
   "cell_type": "code",
   "execution_count": 5,
   "metadata": {},
   "outputs": [
    {
     "name": "stdout",
     "output_type": "stream",
     "text": [
      "['dark_background', 'seaborn-darkgrid', 'seaborn-white', 'seaborn-colorblind', 'seaborn-muted', 'seaborn-whitegrid', 'seaborn-notebook', 'seaborn-paper', 'grayscale', 'seaborn-ticks', 'seaborn-deep', 'seaborn-talk', 'seaborn-dark', 'classic', 'seaborn-poster', 'seaborn-dark-palette', 'ggplot', 'seaborn-bright', 'fivethirtyeight', 'bmh', 'seaborn-pastel']\n"
     ]
    }
   ],
   "source": [
    "print(plt.style.available)"
   ]
  },
  {
   "cell_type": "code",
   "execution_count": 6,
   "metadata": {
    "collapsed": true
   },
   "outputs": [],
   "source": [
    "start = datetime.datetime(2016, 7, 1)\n",
    "end = datetime.datetime(2016, 7, 31)\n",
    "empresa = 'PBR'\n",
    "ptbr = web.get_data_yahoo(empresa, start, end)"
   ]
  },
  {
   "cell_type": "code",
   "execution_count": 7,
   "metadata": {},
   "outputs": [
    {
     "data": {
      "text/plain": [
       "pandas.core.frame.DataFrame"
      ]
     },
     "execution_count": 7,
     "metadata": {},
     "output_type": "execute_result"
    }
   ],
   "source": [
    "type(ptbr)"
   ]
  },
  {
   "cell_type": "code",
   "execution_count": 8,
   "metadata": {},
   "outputs": [
    {
     "data": {
      "text/html": [
       "<div>\n",
       "<table border=\"1\" class=\"dataframe\">\n",
       "  <thead>\n",
       "    <tr style=\"text-align: right;\">\n",
       "      <th></th>\n",
       "      <th>Open</th>\n",
       "      <th>High</th>\n",
       "      <th>Low</th>\n",
       "      <th>Close</th>\n",
       "      <th>Volume</th>\n",
       "      <th>Adj Close</th>\n",
       "    </tr>\n",
       "    <tr>\n",
       "      <th>Date</th>\n",
       "      <th></th>\n",
       "      <th></th>\n",
       "      <th></th>\n",
       "      <th></th>\n",
       "      <th></th>\n",
       "      <th></th>\n",
       "    </tr>\n",
       "  </thead>\n",
       "  <tbody>\n",
       "    <tr>\n",
       "      <th>2016-07-01</th>\n",
       "      <td>7.14</td>\n",
       "      <td>7.52</td>\n",
       "      <td>7.13</td>\n",
       "      <td>7.47</td>\n",
       "      <td>25183400</td>\n",
       "      <td>7.47</td>\n",
       "    </tr>\n",
       "    <tr>\n",
       "      <th>2016-07-05</th>\n",
       "      <td>7.06</td>\n",
       "      <td>7.12</td>\n",
       "      <td>6.80</td>\n",
       "      <td>6.88</td>\n",
       "      <td>25078200</td>\n",
       "      <td>6.88</td>\n",
       "    </tr>\n",
       "    <tr>\n",
       "      <th>2016-07-06</th>\n",
       "      <td>6.74</td>\n",
       "      <td>7.03</td>\n",
       "      <td>6.62</td>\n",
       "      <td>7.00</td>\n",
       "      <td>20523600</td>\n",
       "      <td>7.00</td>\n",
       "    </tr>\n",
       "    <tr>\n",
       "      <th>2016-07-07</th>\n",
       "      <td>7.24</td>\n",
       "      <td>7.58</td>\n",
       "      <td>7.08</td>\n",
       "      <td>7.12</td>\n",
       "      <td>38583100</td>\n",
       "      <td>7.12</td>\n",
       "    </tr>\n",
       "    <tr>\n",
       "      <th>2016-07-08</th>\n",
       "      <td>7.53</td>\n",
       "      <td>7.58</td>\n",
       "      <td>7.34</td>\n",
       "      <td>7.47</td>\n",
       "      <td>21445300</td>\n",
       "      <td>7.47</td>\n",
       "    </tr>\n",
       "  </tbody>\n",
       "</table>\n",
       "</div>"
      ],
      "text/plain": [
       "            Open  High   Low  Close    Volume  Adj Close\n",
       "Date                                                    \n",
       "2016-07-01  7.14  7.52  7.13   7.47  25183400       7.47\n",
       "2016-07-05  7.06  7.12  6.80   6.88  25078200       6.88\n",
       "2016-07-06  6.74  7.03  6.62   7.00  20523600       7.00\n",
       "2016-07-07  7.24  7.58  7.08   7.12  38583100       7.12\n",
       "2016-07-08  7.53  7.58  7.34   7.47  21445300       7.47"
      ]
     },
     "execution_count": 8,
     "metadata": {},
     "output_type": "execute_result"
    }
   ],
   "source": [
    "ptbr.head()"
   ]
  },
  {
   "cell_type": "code",
   "execution_count": 9,
   "metadata": {},
   "outputs": [
    {
     "data": {
      "text/plain": [
       "Date\n",
       "2016-07-01    7.14\n",
       "2016-07-05    7.06\n",
       "2016-07-06    6.74\n",
       "2016-07-07    7.24\n",
       "2016-07-08    7.53\n",
       "2016-07-11    7.61\n",
       "2016-07-12    8.03\n",
       "2016-07-13    7.88\n",
       "2016-07-14    8.22\n",
       "2016-07-15    8.14\n",
       "2016-07-18    8.08\n",
       "2016-07-19    8.40\n",
       "2016-07-20    8.37\n",
       "2016-07-21    8.41\n",
       "2016-07-22    8.40\n",
       "2016-07-25    8.51\n",
       "2016-07-26    8.30\n",
       "2016-07-27    8.45\n",
       "2016-07-28    8.18\n",
       "2016-07-29    8.40\n",
       "Name: Open, dtype: float64"
      ]
     },
     "execution_count": 9,
     "metadata": {},
     "output_type": "execute_result"
    }
   ],
   "source": [
    "ptbr['Open']"
   ]
  },
  {
   "cell_type": "code",
   "execution_count": 10,
   "metadata": {},
   "outputs": [
    {
     "data": {
      "text/plain": [
       "<matplotlib.axes._subplots.AxesSubplot at 0x103fa4860>"
      ]
     },
     "execution_count": 10,
     "metadata": {},
     "output_type": "execute_result"
    },
    {
     "data": {
      "image/png": "[encoded data removed]",
      "text/plain": [
       "<matplotlib.figure.Figure at 0x114f649b0>"
      ]
     },
     "metadata": {},
     "output_type": "display_data"
    }
   ],
   "source": [
    "ptbr.plot()"
   ]
  },
  {
   "cell_type": "code",
   "execution_count": 11,
   "metadata": {},
   "outputs": [],
   "source": [
    "PTBR_final_prices = pd.DataFrame(ptbr['Close'])"
   ]
  },
  {
   "cell_type": "code",
   "execution_count": 12,
   "metadata": {},
   "outputs": [
    {
     "data": {
      "text/html": [
       "<div>\n",
       "<table border=\"1\" class=\"dataframe\">\n",
       "  <thead>\n",
       "    <tr style=\"text-align: right;\">\n",
       "      <th></th>\n",
       "      <th>Close</th>\n",
       "    </tr>\n",
       "    <tr>\n",
       "      <th>Date</th>\n",
       "      <th></th>\n",
       "    </tr>\n",
       "  </thead>\n",
       "  <tbody>\n",
       "    <tr>\n",
       "      <th>2016-07-01</th>\n",
       "      <td>7.47</td>\n",
       "    </tr>\n",
       "    <tr>\n",
       "      <th>2016-07-05</th>\n",
       "      <td>6.88</td>\n",
       "    </tr>\n",
       "    <tr>\n",
       "      <th>2016-07-06</th>\n",
       "      <td>7.00</td>\n",
       "    </tr>\n",
       "    <tr>\n",
       "      <th>2016-07-07</th>\n",
       "      <td>7.12</td>\n",
       "    </tr>\n",
       "    <tr>\n",
       "      <th>2016-07-08</th>\n",
       "      <td>7.47</td>\n",
       "    </tr>\n",
       "    <tr>\n",
       "      <th>2016-07-11</th>\n",
       "      <td>7.77</td>\n",
       "    </tr>\n",
       "    <tr>\n",
       "      <th>2016-07-12</th>\n",
       "      <td>8.08</td>\n",
       "    </tr>\n",
       "    <tr>\n",
       "      <th>2016-07-13</th>\n",
       "      <td>7.92</td>\n",
       "    </tr>\n",
       "    <tr>\n",
       "      <th>2016-07-14</th>\n",
       "      <td>8.21</td>\n",
       "    </tr>\n",
       "    <tr>\n",
       "      <th>2016-07-15</th>\n",
       "      <td>8.13</td>\n",
       "    </tr>\n",
       "    <tr>\n",
       "      <th>2016-07-18</th>\n",
       "      <td>8.39</td>\n",
       "    </tr>\n",
       "    <tr>\n",
       "      <th>2016-07-19</th>\n",
       "      <td>8.47</td>\n",
       "    </tr>\n",
       "    <tr>\n",
       "      <th>2016-07-20</th>\n",
       "      <td>8.38</td>\n",
       "    </tr>\n",
       "    <tr>\n",
       "      <th>2016-07-21</th>\n",
       "      <td>8.37</td>\n",
       "    </tr>\n",
       "    <tr>\n",
       "      <th>2016-07-22</th>\n",
       "      <td>8.46</td>\n",
       "    </tr>\n",
       "    <tr>\n",
       "      <th>2016-07-25</th>\n",
       "      <td>8.29</td>\n",
       "    </tr>\n",
       "    <tr>\n",
       "      <th>2016-07-26</th>\n",
       "      <td>8.41</td>\n",
       "    </tr>\n",
       "    <tr>\n",
       "      <th>2016-07-27</th>\n",
       "      <td>8.33</td>\n",
       "    </tr>\n",
       "    <tr>\n",
       "      <th>2016-07-28</th>\n",
       "      <td>8.06</td>\n",
       "    </tr>\n",
       "    <tr>\n",
       "      <th>2016-07-29</th>\n",
       "      <td>8.68</td>\n",
       "    </tr>\n",
       "  </tbody>\n",
       "</table>\n",
       "</div>"
      ],
      "text/plain": [
       "            Close\n",
       "Date             \n",
       "2016-07-01   7.47\n",
       "2016-07-05   6.88\n",
       "2016-07-06   7.00\n",
       "2016-07-07   7.12\n",
       "2016-07-08   7.47\n",
       "2016-07-11   7.77\n",
       "2016-07-12   8.08\n",
       "2016-07-13   7.92\n",
       "2016-07-14   8.21\n",
       "2016-07-15   8.13\n",
       "2016-07-18   8.39\n",
       "2016-07-19   8.47\n",
       "2016-07-20   8.38\n",
       "2016-07-21   8.37\n",
       "2016-07-22   8.46\n",
       "2016-07-25   8.29\n",
       "2016-07-26   8.41\n",
       "2016-07-27   8.33\n",
       "2016-07-28   8.06\n",
       "2016-07-29   8.68"
      ]
     },
     "execution_count": 12,
     "metadata": {},
     "output_type": "execute_result"
    }
   ],
   "source": [
    "PTBR_final_prices"
   ]
  },
  {
   "cell_type": "code",
   "execution_count": 14,
   "metadata": {},
   "outputs": [
    {
     "data": {
      "text/html": [
       "<div>\n",
       "<table border=\"1\" class=\"dataframe\">\n",
       "  <thead>\n",
       "    <tr style=\"text-align: right;\">\n",
       "      <th></th>\n",
       "      <th>Close</th>\n",
       "    </tr>\n",
       "    <tr>\n",
       "      <th>Date</th>\n",
       "      <th></th>\n",
       "    </tr>\n",
       "  </thead>\n",
       "  <tbody>\n",
       "    <tr>\n",
       "      <th>2016-07-01</th>\n",
       "      <td>False</td>\n",
       "    </tr>\n",
       "    <tr>\n",
       "      <th>2016-07-05</th>\n",
       "      <td>False</td>\n",
       "    </tr>\n",
       "    <tr>\n",
       "      <th>2016-07-06</th>\n",
       "      <td>False</td>\n",
       "    </tr>\n",
       "    <tr>\n",
       "      <th>2016-07-07</th>\n",
       "      <td>False</td>\n",
       "    </tr>\n",
       "    <tr>\n",
       "      <th>2016-07-08</th>\n",
       "      <td>False</td>\n",
       "    </tr>\n",
       "    <tr>\n",
       "      <th>2016-07-11</th>\n",
       "      <td>False</td>\n",
       "    </tr>\n",
       "    <tr>\n",
       "      <th>2016-07-12</th>\n",
       "      <td>False</td>\n",
       "    </tr>\n",
       "    <tr>\n",
       "      <th>2016-07-13</th>\n",
       "      <td>False</td>\n",
       "    </tr>\n",
       "    <tr>\n",
       "      <th>2016-07-14</th>\n",
       "      <td>False</td>\n",
       "    </tr>\n",
       "    <tr>\n",
       "      <th>2016-07-15</th>\n",
       "      <td>False</td>\n",
       "    </tr>\n",
       "    <tr>\n",
       "      <th>2016-07-18</th>\n",
       "      <td>False</td>\n",
       "    </tr>\n",
       "    <tr>\n",
       "      <th>2016-07-19</th>\n",
       "      <td>False</td>\n",
       "    </tr>\n",
       "    <tr>\n",
       "      <th>2016-07-20</th>\n",
       "      <td>False</td>\n",
       "    </tr>\n",
       "    <tr>\n",
       "      <th>2016-07-21</th>\n",
       "      <td>False</td>\n",
       "    </tr>\n",
       "    <tr>\n",
       "      <th>2016-07-22</th>\n",
       "      <td>False</td>\n",
       "    </tr>\n",
       "    <tr>\n",
       "      <th>2016-07-25</th>\n",
       "      <td>False</td>\n",
       "    </tr>\n",
       "    <tr>\n",
       "      <th>2016-07-26</th>\n",
       "      <td>False</td>\n",
       "    </tr>\n",
       "    <tr>\n",
       "      <th>2016-07-27</th>\n",
       "      <td>False</td>\n",
       "    </tr>\n",
       "    <tr>\n",
       "      <th>2016-07-28</th>\n",
       "      <td>False</td>\n",
       "    </tr>\n",
       "    <tr>\n",
       "      <th>2016-07-29</th>\n",
       "      <td>False</td>\n",
       "    </tr>\n",
       "  </tbody>\n",
       "</table>\n",
       "</div>"
      ],
      "text/plain": [
       "            Close\n",
       "Date             \n",
       "2016-07-01  False\n",
       "2016-07-05  False\n",
       "2016-07-06  False\n",
       "2016-07-07  False\n",
       "2016-07-08  False\n",
       "2016-07-11  False\n",
       "2016-07-12  False\n",
       "2016-07-13  False\n",
       "2016-07-14  False\n",
       "2016-07-15  False\n",
       "2016-07-18  False\n",
       "2016-07-19  False\n",
       "2016-07-20  False\n",
       "2016-07-21  False\n",
       "2016-07-22  False\n",
       "2016-07-25  False\n",
       "2016-07-26  False\n",
       "2016-07-27  False\n",
       "2016-07-28  False\n",
       "2016-07-29  False"
      ]
     },
     "execution_count": 14,
     "metadata": {},
     "output_type": "execute_result"
    }
   ],
   "source": [
    "PTBR_final_prices.isnull()"
   ]
  },
  {
   "cell_type": "code",
   "execution_count": 16,
   "metadata": {},
   "outputs": [
    {
     "data": {
      "text/html": [
       "<div>\n",
       "<table border=\"1\" class=\"dataframe\">\n",
       "  <thead>\n",
       "    <tr style=\"text-align: right;\">\n",
       "      <th></th>\n",
       "      <th>Close</th>\n",
       "    </tr>\n",
       "    <tr>\n",
       "      <th>Date</th>\n",
       "      <th></th>\n",
       "    </tr>\n",
       "  </thead>\n",
       "  <tbody>\n",
       "    <tr>\n",
       "      <th>2016-07-01</th>\n",
       "      <td>True</td>\n",
       "    </tr>\n",
       "    <tr>\n",
       "      <th>2016-07-05</th>\n",
       "      <td>True</td>\n",
       "    </tr>\n",
       "    <tr>\n",
       "      <th>2016-07-06</th>\n",
       "      <td>True</td>\n",
       "    </tr>\n",
       "    <tr>\n",
       "      <th>2016-07-07</th>\n",
       "      <td>True</td>\n",
       "    </tr>\n",
       "    <tr>\n",
       "      <th>2016-07-08</th>\n",
       "      <td>True</td>\n",
       "    </tr>\n",
       "    <tr>\n",
       "      <th>2016-07-11</th>\n",
       "      <td>True</td>\n",
       "    </tr>\n",
       "    <tr>\n",
       "      <th>2016-07-12</th>\n",
       "      <td>True</td>\n",
       "    </tr>\n",
       "    <tr>\n",
       "      <th>2016-07-13</th>\n",
       "      <td>True</td>\n",
       "    </tr>\n",
       "    <tr>\n",
       "      <th>2016-07-14</th>\n",
       "      <td>True</td>\n",
       "    </tr>\n",
       "    <tr>\n",
       "      <th>2016-07-15</th>\n",
       "      <td>True</td>\n",
       "    </tr>\n",
       "    <tr>\n",
       "      <th>2016-07-18</th>\n",
       "      <td>True</td>\n",
       "    </tr>\n",
       "    <tr>\n",
       "      <th>2016-07-19</th>\n",
       "      <td>True</td>\n",
       "    </tr>\n",
       "    <tr>\n",
       "      <th>2016-07-20</th>\n",
       "      <td>True</td>\n",
       "    </tr>\n",
       "    <tr>\n",
       "      <th>2016-07-21</th>\n",
       "      <td>True</td>\n",
       "    </tr>\n",
       "    <tr>\n",
       "      <th>2016-07-22</th>\n",
       "      <td>True</td>\n",
       "    </tr>\n",
       "    <tr>\n",
       "      <th>2016-07-25</th>\n",
       "      <td>True</td>\n",
       "    </tr>\n",
       "    <tr>\n",
       "      <th>2016-07-26</th>\n",
       "      <td>True</td>\n",
       "    </tr>\n",
       "    <tr>\n",
       "      <th>2016-07-27</th>\n",
       "      <td>True</td>\n",
       "    </tr>\n",
       "    <tr>\n",
       "      <th>2016-07-28</th>\n",
       "      <td>True</td>\n",
       "    </tr>\n",
       "    <tr>\n",
       "      <th>2016-07-29</th>\n",
       "      <td>True</td>\n",
       "    </tr>\n",
       "  </tbody>\n",
       "</table>\n",
       "</div>"
      ],
      "text/plain": [
       "           Close\n",
       "Date            \n",
       "2016-07-01  True\n",
       "2016-07-05  True\n",
       "2016-07-06  True\n",
       "2016-07-07  True\n",
       "2016-07-08  True\n",
       "2016-07-11  True\n",
       "2016-07-12  True\n",
       "2016-07-13  True\n",
       "2016-07-14  True\n",
       "2016-07-15  True\n",
       "2016-07-18  True\n",
       "2016-07-19  True\n",
       "2016-07-20  True\n",
       "2016-07-21  True\n",
       "2016-07-22  True\n",
       "2016-07-25  True\n",
       "2016-07-26  True\n",
       "2016-07-27  True\n",
       "2016-07-28  True\n",
       "2016-07-29  True"
      ]
     },
     "execution_count": 16,
     "metadata": {},
     "output_type": "execute_result"
    }
   ],
   "source": [
    "PTBR_final_prices.notnull()"
   ]
  },
  {
   "cell_type": "markdown",
   "metadata": {},
   "source": [
    "<h3>Operações com Datas</h3>"
   ]
  },
  {
   "cell_type": "code",
   "execution_count": 17,
   "metadata": {},
   "outputs": [
    {
     "data": {
      "text/plain": [
       "datetime.datetime(2015, 12, 25, 0, 0)"
      ]
     },
     "execution_count": 17,
     "metadata": {},
     "output_type": "execute_result"
    }
   ],
   "source": [
    "natal = pd.datetime(2015,12,25)\n",
    "natal"
   ]
  },
  {
   "cell_type": "code",
   "execution_count": 18,
   "metadata": {},
   "outputs": [
    {
     "data": {
      "text/plain": [
       "Timestamp('2015-12-26 00:00:00')"
      ]
     },
     "execution_count": 18,
     "metadata": {},
     "output_type": "execute_result"
    }
   ],
   "source": [
    "boxingDay = natal + pd.DateOffset(days = 1)\n",
    "boxingDay"
   ]
  },
  {
   "cell_type": "code",
   "execution_count": 19,
   "metadata": {},
   "outputs": [
    {
     "data": {
      "text/plain": [
       "Timestamp('2016-01-02 00:00:00')"
      ]
     },
     "execution_count": 19,
     "metadata": {},
     "output_type": "execute_result"
    }
   ],
   "source": [
    "boxingDay + pd.DateOffset(weeks = 1)"
   ]
  },
  {
   "cell_type": "code",
   "execution_count": 20,
   "metadata": {},
   "outputs": [
    {
     "data": {
      "text/plain": [
       "Timestamp('2020-12-26 00:00:00')"
      ]
     },
     "execution_count": 20,
     "metadata": {},
     "output_type": "execute_result"
    }
   ],
   "source": [
    "boxingDay + 2 * pd.DateOffset(years = 2, months = 6)"
   ]
  },
  {
   "cell_type": "code",
   "execution_count": 21,
   "metadata": {
    "collapsed": true
   },
   "outputs": [],
   "source": [
    "lastDay = pd.datetime(2016,12,31)"
   ]
  },
  {
   "cell_type": "code",
   "execution_count": 22,
   "metadata": {},
   "outputs": [],
   "source": [
    "from pandas.tseries.offsets import QuarterBegin"
   ]
  },
  {
   "cell_type": "code",
   "execution_count": 23,
   "metadata": {},
   "outputs": [
    {
     "data": {
      "text/plain": [
       "Timestamp('2017-03-01 00:00:00')"
      ]
     },
     "execution_count": 23,
     "metadata": {},
     "output_type": "execute_result"
    }
   ],
   "source": [
    "dtoffset = QuarterBegin()\n",
    "lastDay + dtoffset"
   ]
  },
  {
   "cell_type": "code",
   "execution_count": 24,
   "metadata": {
    "collapsed": true
   },
   "outputs": [],
   "source": [
    "firstQuarterLastDay = pd.datetime(2015,3,31)"
   ]
  },
  {
   "cell_type": "code",
   "execution_count": 25,
   "metadata": {},
   "outputs": [
    {
     "data": {
      "text/plain": [
       "Timestamp('2015-06-01 00:00:00')"
      ]
     },
     "execution_count": 25,
     "metadata": {},
     "output_type": "execute_result"
    }
   ],
   "source": [
    "dtoffset.rollforward(firstQuarterLastDay)"
   ]
  },
  {
   "cell_type": "code",
   "execution_count": 26,
   "metadata": {},
   "outputs": [],
   "source": [
    "today = pd.datetime.now()"
   ]
  },
  {
   "cell_type": "markdown",
   "metadata": {
    "collapsed": true
   },
   "source": [
    "<b> 1 semana a partir de hoje</b>"
   ]
  },
  {
   "cell_type": "code",
   "execution_count": 27,
   "metadata": {},
   "outputs": [
    {
     "data": {
      "text/plain": [
       "Timestamp('2016-09-05 18:18:20.128655')"
      ]
     },
     "execution_count": 27,
     "metadata": {},
     "output_type": "execute_result"
    }
   ],
   "source": [
    "today + pd.DateOffset(weeks = 1)"
   ]
  },
  {
   "cell_type": "markdown",
   "metadata": {},
   "source": [
    "<b>5 anos a partir de hoje</b>"
   ]
  },
  {
   "cell_type": "code",
   "execution_count": 28,
   "metadata": {},
   "outputs": [
    {
     "data": {
      "text/plain": [
       "Timestamp('2021-08-28 18:18:20.128655')"
      ]
     },
     "execution_count": 28,
     "metadata": {},
     "output_type": "execute_result"
    }
   ],
   "source": [
    "today + 2 * pd.DateOffset(years = 2, months = 6)"
   ]
  },
  {
   "cell_type": "markdown",
   "metadata": {},
   "source": [
    "<h3>Conversão entre tipos de dados para Séries Temporais</h3>"
   ]
  },
  {
   "cell_type": "code",
   "execution_count": 29,
   "metadata": {},
   "outputs": [
    {
     "data": {
      "text/plain": [
       "Timestamp('2015-07-13 00:00:00')"
      ]
     },
     "execution_count": 29,
     "metadata": {},
     "output_type": "execute_result"
    }
   ],
   "source": [
    "worldCupFinal = pd.to_datetime('07/13/2015')\n",
    "worldCupFinal"
   ]
  },
  {
   "cell_type": "code",
   "execution_count": 30,
   "metadata": {},
   "outputs": [
    {
     "data": {
      "text/plain": [
       "Period('2015-07-13', 'D')"
      ]
     },
     "execution_count": 30,
     "metadata": {},
     "output_type": "execute_result"
    }
   ],
   "source": [
    "worldCupFinal.to_period('D')"
   ]
  },
  {
   "cell_type": "code",
   "execution_count": 31,
   "metadata": {},
   "outputs": [
    {
     "data": {
      "text/plain": [
       "Period('2015-06-12', 'D')"
      ]
     },
     "execution_count": 31,
     "metadata": {},
     "output_type": "execute_result"
    }
   ],
   "source": [
    "worldCupKickoff=pd.Period('06/12/2015','D')\n",
    "worldCupKickoff"
   ]
  },
  {
   "cell_type": "code",
   "execution_count": 32,
   "metadata": {},
   "outputs": [
    {
     "data": {
      "text/plain": [
       "Timestamp('2015-06-12 00:00:00')"
      ]
     },
     "execution_count": 32,
     "metadata": {},
     "output_type": "execute_result"
    }
   ],
   "source": [
    "worldCupKickoff.to_timestamp()"
   ]
  },
  {
   "cell_type": "code",
   "execution_count": 33,
   "metadata": {},
   "outputs": [
    {
     "data": {
      "text/plain": [
       "DatetimeIndex(['2014-06-12', '2014-06-13', '2014-06-14', '2014-06-15',\n",
       "               '2014-06-16', '2014-06-17', '2014-06-18', '2014-06-19',\n",
       "               '2014-06-20', '2014-06-21', '2014-06-22', '2014-06-23',\n",
       "               '2014-06-24', '2014-06-25', '2014-06-26', '2014-06-27',\n",
       "               '2014-06-28', '2014-06-29', '2014-06-30', '2014-07-01',\n",
       "               '2014-07-02', '2014-07-03', '2014-07-04', '2014-07-05',\n",
       "               '2014-07-06', '2014-07-07', '2014-07-08', '2014-07-09',\n",
       "               '2014-07-10', '2014-07-11', '2014-07-12', '2014-07-13'],\n",
       "              dtype='datetime64[ns]', freq='D')"
      ]
     },
     "execution_count": 33,
     "metadata": {},
     "output_type": "execute_result"
    }
   ],
   "source": [
    "worldCupDays=pd.date_range('06/12/2014', periods = 32, freq = 'D')\n",
    "worldCupDays"
   ]
  },
  {
   "cell_type": "code",
   "execution_count": 34,
   "metadata": {},
   "outputs": [
    {
     "data": {
      "text/plain": [
       "PeriodIndex(['2014-06-12', '2014-06-13', '2014-06-14', '2014-06-15',\n",
       "             '2014-06-16', '2014-06-17', '2014-06-18', '2014-06-19',\n",
       "             '2014-06-20', '2014-06-21', '2014-06-22', '2014-06-23',\n",
       "             '2014-06-24', '2014-06-25', '2014-06-26', '2014-06-27',\n",
       "             '2014-06-28', '2014-06-29', '2014-06-30', '2014-07-01',\n",
       "             '2014-07-02', '2014-07-03', '2014-07-04', '2014-07-05',\n",
       "             '2014-07-06', '2014-07-07', '2014-07-08', '2014-07-09',\n",
       "             '2014-07-10', '2014-07-11', '2014-07-12', '2014-07-13'],\n",
       "            dtype='int64', freq='D')"
      ]
     },
     "execution_count": 34,
     "metadata": {},
     "output_type": "execute_result"
    }
   ],
   "source": [
    "worldCupDays.to_period()"
   ]
  },
  {
   "cell_type": "markdown",
   "metadata": {},
   "source": [
    "<h2>Plot com Matplotlib</h2>"
   ]
  },
  {
   "cell_type": "code",
   "execution_count": 35,
   "metadata": {
    "collapsed": true
   },
   "outputs": [],
   "source": [
    "import numpy as np"
   ]
  },
  {
   "cell_type": "code",
   "execution_count": 36,
   "metadata": {},
   "outputs": [],
   "source": [
    "X = np.linspace(-np.pi, np.pi, 256, endpoint = True)"
   ]
  },
  {
   "cell_type": "code",
   "execution_count": 37,
   "metadata": {
    "collapsed": true
   },
   "outputs": [],
   "source": [
    "f,g = np.cos(X) + np.sin(X), np.sin(X) - np.cos(X)"
   ]
  },
  {
   "cell_type": "code",
   "execution_count": 38,
   "metadata": {
    "collapsed": true
   },
   "outputs": [],
   "source": [
    "f_serie = pd.Series(f)\n",
    "g_serie = pd.Series(g)"
   ]
  },
  {
   "cell_type": "code",
   "execution_count": 39,
   "metadata": {},
   "outputs": [
    {
     "data": {
      "text/html": [
       "<div>\n",
       "<table border=\"1\" class=\"dataframe\">\n",
       "  <thead>\n",
       "    <tr style=\"text-align: right;\">\n",
       "      <th></th>\n",
       "      <th>sin(x)+cos(x)</th>\n",
       "      <th>sin(x)-cos(x)</th>\n",
       "    </tr>\n",
       "  </thead>\n",
       "  <tbody>\n",
       "    <tr>\n",
       "      <th>-3.141593</th>\n",
       "      <td>-1.000000</td>\n",
       "      <td>1.000000</td>\n",
       "    </tr>\n",
       "    <tr>\n",
       "      <th>-3.116953</th>\n",
       "      <td>-1.024334</td>\n",
       "      <td>0.975059</td>\n",
       "    </tr>\n",
       "    <tr>\n",
       "      <th>-3.092313</th>\n",
       "      <td>-1.048046</td>\n",
       "      <td>0.949526</td>\n",
       "    </tr>\n",
       "    <tr>\n",
       "      <th>-3.067673</th>\n",
       "      <td>-1.071122</td>\n",
       "      <td>0.923417</td>\n",
       "    </tr>\n",
       "    <tr>\n",
       "      <th>-3.043033</th>\n",
       "      <td>-1.093547</td>\n",
       "      <td>0.896747</td>\n",
       "    </tr>\n",
       "  </tbody>\n",
       "</table>\n",
       "</div>"
      ],
      "text/plain": [
       "           sin(x)+cos(x)  sin(x)-cos(x)\n",
       "-3.141593      -1.000000       1.000000\n",
       "-3.116953      -1.024334       0.975059\n",
       "-3.092313      -1.048046       0.949526\n",
       "-3.067673      -1.071122       0.923417\n",
       "-3.043033      -1.093547       0.896747"
      ]
     },
     "execution_count": 39,
     "metadata": {},
     "output_type": "execute_result"
    }
   ],
   "source": [
    "plotDF = pd.concat([f_serie, g_serie], axis = 1)\n",
    "plotDF.index = X\n",
    "plotDF.columns = ['sin(x)+cos(x)','sin(x)-cos(x)']\n",
    "plotDF.head()"
   ]
  },
  {
   "cell_type": "code",
   "execution_count": 40,
   "metadata": {},
   "outputs": [
    {
     "data": {
      "image/png": "[encoded data removed]",
      "text/plain": [
       "<matplotlib.figure.Figure at 0x11adcf2e8>"
      ]
     },
     "metadata": {},
     "output_type": "display_data"
    }
   ],
   "source": [
    "plotDF.plot()\n",
    "plt.show()"
   ]
  },
  {
   "cell_type": "code",
   "execution_count": 41,
   "metadata": {},
   "outputs": [
    {
     "data": {
      "image/png": "[encoded data removed]",
      "text/plain": [
       "<matplotlib.figure.Figure at 0x11adf3fd0>"
      ]
     },
     "metadata": {},
     "output_type": "display_data"
    }
   ],
   "source": [
    "plotDF.columns = ['f(x)','g(x)']\n",
    "plotDF.plot(title = 'Plot de f(x)=sin(x)+cos(x), \\n         g(x)=sinx(x)-cos(x)')\n",
    "plt.show()"
   ]
  },
  {
   "cell_type": "code",
   "execution_count": 42,
   "metadata": {},
   "outputs": [
    {
     "data": {
      "image/png": "[encoded data removed]",
      "text/plain": [
       "<matplotlib.figure.Figure at 0x11ae737f0>"
      ]
     },
     "metadata": {},
     "output_type": "display_data"
    }
   ],
   "source": [
    "# Subplots\n",
    "plotDF.plot(subplots = True, figsize = (6,6))\n",
    "plt.show()"
   ]
  },
  {
   "cell_type": "markdown",
   "metadata": {
    "collapsed": true
   },
   "source": [
    "# FIM"
   ]
  },
  {
   "cell_type": "markdown",
   "metadata": {},
   "source": [
    "### Obrigado - Data Science Academy - <a href=http://facebook.com/dsacademy>facebook.com/dsacademybr</a>"
   ]
  }
 ],
 "metadata": {
  "anaconda-cloud": {},
  "kernelspec": {
   "display_name": "Python 3",
   "language": "python",
   "name": "python3"
  },
  "language_info": {
   "codemirror_mode": {
    "name": "ipython",
    "version": 3
   },
   "file_extension": ".py",
   "mimetype": "text/x-python",
   "name": "python",
   "nbconvert_exporter": "python",
   "pygments_lexer": "ipython3",
   "version": "3.6.1"
  }
 },
 "nbformat": 4,
 "nbformat_minor": 1
}
