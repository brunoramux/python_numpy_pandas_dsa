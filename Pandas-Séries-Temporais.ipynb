{
 "cells": [
  {
   "cell_type": "markdown",
   "metadata": {},
   "source": [
    "## Séries Temporais"
   ]
  },
  {
   "cell_type": "code",
   "execution_count": 1,
   "metadata": {},
   "outputs": [
    {
     "name": "stdout",
     "output_type": "stream",
     "text": [
      "Collecting pandas_datareader\n",
      "  Downloading pandas_datareader-0.10.0-py3-none-any.whl.metadata (2.9 kB)\n",
      "Collecting lxml (from pandas_datareader)\n",
      "  Downloading lxml-5.2.2-cp311-cp311-macosx_10_9_universal2.whl.metadata (3.4 kB)\n",
      "Requirement already satisfied: pandas>=0.23 in /Users/brunoramoslemos/.local/share/virtualenvs/python_numpy_pandas_dsa-nLp2V0TY/lib/python3.11/site-packages (from pandas_datareader) (2.2.2)\n",
      "Collecting requests>=2.19.0 (from pandas_datareader)\n",
      "  Downloading requests-2.32.3-py3-none-any.whl.metadata (4.6 kB)\n",
      "Requirement already satisfied: numpy>=1.23.2 in /Users/brunoramoslemos/.local/share/virtualenvs/python_numpy_pandas_dsa-nLp2V0TY/lib/python3.11/site-packages (from pandas>=0.23->pandas_datareader) (2.0.0)\n",
      "Requirement already satisfied: python-dateutil>=2.8.2 in /Users/brunoramoslemos/.local/share/virtualenvs/python_numpy_pandas_dsa-nLp2V0TY/lib/python3.11/site-packages (from pandas>=0.23->pandas_datareader) (2.9.0.post0)\n",
      "Requirement already satisfied: pytz>=2020.1 in /Users/brunoramoslemos/.local/share/virtualenvs/python_numpy_pandas_dsa-nLp2V0TY/lib/python3.11/site-packages (from pandas>=0.23->pandas_datareader) (2024.1)\n",
      "Requirement already satisfied: tzdata>=2022.7 in /Users/brunoramoslemos/.local/share/virtualenvs/python_numpy_pandas_dsa-nLp2V0TY/lib/python3.11/site-packages (from pandas>=0.23->pandas_datareader) (2024.1)\n",
      "Collecting charset-normalizer<4,>=2 (from requests>=2.19.0->pandas_datareader)\n",
      "  Downloading charset_normalizer-3.3.2-cp311-cp311-macosx_11_0_arm64.whl.metadata (33 kB)\n",
      "Collecting idna<4,>=2.5 (from requests>=2.19.0->pandas_datareader)\n",
      "  Downloading idna-3.7-py3-none-any.whl.metadata (9.9 kB)\n",
      "Collecting urllib3<3,>=1.21.1 (from requests>=2.19.0->pandas_datareader)\n",
      "  Downloading urllib3-2.2.2-py3-none-any.whl.metadata (6.4 kB)\n",
      "Collecting certifi>=2017.4.17 (from requests>=2.19.0->pandas_datareader)\n",
      "  Downloading certifi-2024.7.4-py3-none-any.whl.metadata (2.2 kB)\n",
      "Requirement already satisfied: six>=1.5 in /Users/brunoramoslemos/.local/share/virtualenvs/python_numpy_pandas_dsa-nLp2V0TY/lib/python3.11/site-packages (from python-dateutil>=2.8.2->pandas>=0.23->pandas_datareader) (1.16.0)\n",
      "Downloading pandas_datareader-0.10.0-py3-none-any.whl (109 kB)\n",
      "\u001b[2K   \u001b[38;2;114;156;31m━━━━━━━━━━━━━━━━━━━━━━━━━━━━━━━━━━━━━━━━\u001b[0m \u001b[32m109.5/109.5 kB\u001b[0m \u001b[31m2.2 MB/s\u001b[0m eta \u001b[36m0:00:00\u001b[0m31m2.3 MB/s\u001b[0m eta \u001b[36m0:00:01\u001b[0m\n",
      "\u001b[?25hDownloading requests-2.32.3-py3-none-any.whl (64 kB)\n",
      "\u001b[2K   \u001b[38;2;114;156;31m━━━━━━━━━━━━━━━━━━━━━━━━━━━━━━━━━━━━━━━━\u001b[0m \u001b[32m64.9/64.9 kB\u001b[0m \u001b[31m5.7 MB/s\u001b[0m eta \u001b[36m0:00:00\u001b[0m\n",
      "\u001b[?25hDownloading lxml-5.2.2-cp311-cp311-macosx_10_9_universal2.whl (8.1 MB)\n",
      "\u001b[2K   \u001b[38;2;114;156;31m━━━━━━━━━━━━━━━━━━━━━━━━━━━━━━━━━━━━━━━━\u001b[0m \u001b[32m8.1/8.1 MB\u001b[0m \u001b[31m16.8 MB/s\u001b[0m eta \u001b[36m0:00:00\u001b[0m MB/s\u001b[0m eta \u001b[36m0:00:01\u001b[0m:01\u001b[0m\n",
      "\u001b[?25hDownloading certifi-2024.7.4-py3-none-any.whl (162 kB)\n",
      "\u001b[2K   \u001b[38;2;114;156;31m━━━━━━━━━━━━━━━━━━━━━━━━━━━━━━━━━━━━━━━━\u001b[0m \u001b[32m163.0/163.0 kB\u001b[0m \u001b[31m16.3 MB/s\u001b[0m eta \u001b[36m0:00:00\u001b[0m\n",
      "\u001b[?25hDownloading charset_normalizer-3.3.2-cp311-cp311-macosx_11_0_arm64.whl (118 kB)\n",
      "\u001b[2K   \u001b[38;2;114;156;31m━━━━━━━━━━━━━━━━━━━━━━━━━━━━━━━━━━━━━━━━\u001b[0m \u001b[32m119.0/119.0 kB\u001b[0m \u001b[31m16.7 MB/s\u001b[0m eta \u001b[36m0:00:00\u001b[0m\n",
      "\u001b[?25hDownloading idna-3.7-py3-none-any.whl (66 kB)\n",
      "\u001b[2K   \u001b[38;2;114;156;31m━━━━━━━━━━━━━━━━━━━━━━━━━━━━━━━━━━━━━━━━\u001b[0m \u001b[32m66.8/66.8 kB\u001b[0m \u001b[31m9.7 MB/s\u001b[0m eta \u001b[36m0:00:00\u001b[0m\n",
      "\u001b[?25hDownloading urllib3-2.2.2-py3-none-any.whl (121 kB)\n",
      "\u001b[2K   \u001b[38;2;114;156;31m━━━━━━━━━━━━━━━━━━━━━━━━━━━━━━━━━━━━━━━━\u001b[0m \u001b[32m121.4/121.4 kB\u001b[0m \u001b[31m9.9 MB/s\u001b[0m eta \u001b[36m0:00:00\u001b[0m\n",
      "\u001b[?25hInstalling collected packages: urllib3, lxml, idna, charset-normalizer, certifi, requests, pandas_datareader\n",
      "Successfully installed certifi-2024.7.4 charset-normalizer-3.3.2 idna-3.7 lxml-5.2.2 pandas_datareader-0.10.0 requests-2.32.3 urllib3-2.2.2\n",
      "\n",
      "\u001b[1m[\u001b[0m\u001b[34;49mnotice\u001b[0m\u001b[1;39;49m]\u001b[0m\u001b[39;49m A new release of pip is available: \u001b[0m\u001b[31;49m24.0\u001b[0m\u001b[39;49m -> \u001b[0m\u001b[32;49m24.1.2\u001b[0m\n",
      "\u001b[1m[\u001b[0m\u001b[34;49mnotice\u001b[0m\u001b[1;39;49m]\u001b[0m\u001b[39;49m To update, run: \u001b[0m\u001b[32;49mpip install --upgrade pip\u001b[0m\n"
     ]
    }
   ],
   "source": [
    "!pip install pandas_datareader"
   ]
  },
  {
   "cell_type": "code",
   "execution_count": 2,
   "metadata": {},
   "outputs": [],
   "source": [
    "import datetime\n",
    "import pandas as pd\n",
    "import numpy as np\n",
    "import pandas_datareader.data as web\n",
    "import matplotlib.pyplot as plt\n",
    "from matplotlib import style\n",
    "%matplotlib inline  "
   ]
  },
  {
   "cell_type": "code",
   "execution_count": 3,
   "metadata": {},
   "outputs": [],
   "source": [
    "style.use('fivethirtyeight')"
   ]
  },
  {
   "cell_type": "code",
   "execution_count": 4,
   "metadata": {},
   "outputs": [
    {
     "name": "stdout",
     "output_type": "stream",
     "text": [
      "Help on function use in module matplotlib.style.core:\n",
      "\n",
      "use(style)\n",
      "    Use Matplotlib style settings from a style specification.\n",
      "    \n",
      "    The style name of 'default' is reserved for reverting back to\n",
      "    the default style settings.\n",
      "    \n",
      "    .. note::\n",
      "    \n",
      "       This updates the `.rcParams` with the settings from the style.\n",
      "       `.rcParams` not defined in the style are kept.\n",
      "    \n",
      "    Parameters\n",
      "    ----------\n",
      "    style : str, dict, Path or list\n",
      "    \n",
      "        A style specification. Valid options are:\n",
      "    \n",
      "        str\n",
      "            - One of the style names in `.style.available` (a builtin style or\n",
      "              a style installed in the user library path).\n",
      "    \n",
      "            - A dotted name of the form \"package.style_name\"; in that case,\n",
      "              \"package\" should be an importable Python package name, e.g. at\n",
      "              ``/path/to/package/__init__.py``; the loaded style file is\n",
      "              ``/path/to/package/style_name.mplstyle``.  (Style files in\n",
      "              subpackages are likewise supported.)\n",
      "    \n",
      "            - The path or URL to a style file, which gets loaded by\n",
      "              `.rc_params_from_file`.\n",
      "    \n",
      "        dict\n",
      "            A mapping of key/value pairs for `matplotlib.rcParams`.\n",
      "    \n",
      "        Path\n",
      "            The path to a style file, which gets loaded by\n",
      "            `.rc_params_from_file`.\n",
      "    \n",
      "        list\n",
      "            A list of style specifiers (str, Path or dict), which are applied\n",
      "            from first to last in the list.\n",
      "    \n",
      "    Notes\n",
      "    -----\n",
      "    The following `.rcParams` are not related to style and will be ignored if\n",
      "    found in a style specification:\n",
      "    \n",
      "    - backend\n",
      "    - backend_fallback\n",
      "    - date.epoch\n",
      "    - docstring.hardcopy\n",
      "    - figure.max_open_warning\n",
      "    - figure.raise_window\n",
      "    - interactive\n",
      "    - savefig.directory\n",
      "    - timezone\n",
      "    - tk.window_focus\n",
      "    - toolbar\n",
      "    - webagg.address\n",
      "    - webagg.open_in_browser\n",
      "    - webagg.port\n",
      "    - webagg.port_retries\n",
      "\n"
     ]
    }
   ],
   "source": [
    "help(style.use)"
   ]
  },
  {
   "cell_type": "code",
   "execution_count": 5,
   "metadata": {},
   "outputs": [
    {
     "name": "stdout",
     "output_type": "stream",
     "text": [
      "['Solarize_Light2', '_classic_test_patch', '_mpl-gallery', '_mpl-gallery-nogrid', 'bmh', 'classic', 'dark_background', 'fast', 'fivethirtyeight', 'ggplot', 'grayscale', 'seaborn-v0_8', 'seaborn-v0_8-bright', 'seaborn-v0_8-colorblind', 'seaborn-v0_8-dark', 'seaborn-v0_8-dark-palette', 'seaborn-v0_8-darkgrid', 'seaborn-v0_8-deep', 'seaborn-v0_8-muted', 'seaborn-v0_8-notebook', 'seaborn-v0_8-paper', 'seaborn-v0_8-pastel', 'seaborn-v0_8-poster', 'seaborn-v0_8-talk', 'seaborn-v0_8-ticks', 'seaborn-v0_8-white', 'seaborn-v0_8-whitegrid', 'tableau-colorblind10']\n"
     ]
    }
   ],
   "source": [
    "print(plt.style.available)"
   ]
  },
  {
   "cell_type": "code",
   "execution_count": 14,
   "metadata": {},
   "outputs": [],
   "source": [
    "import yfinance as yf"
   ]
  },
  {
   "cell_type": "code",
   "execution_count": 23,
   "metadata": {},
   "outputs": [
    {
     "name": "stderr",
     "output_type": "stream",
     "text": [
      "[*********************100%%**********************]  1 of 1 completed\n"
     ]
    },
    {
     "data": {
      "text/html": [
       "<div>\n",
       "<style scoped>\n",
       "    .dataframe tbody tr th:only-of-type {\n",
       "        vertical-align: middle;\n",
       "    }\n",
       "\n",
       "    .dataframe tbody tr th {\n",
       "        vertical-align: top;\n",
       "    }\n",
       "\n",
       "    .dataframe thead th {\n",
       "        text-align: right;\n",
       "    }\n",
       "</style>\n",
       "<table border=\"1\" class=\"dataframe\">\n",
       "  <thead>\n",
       "    <tr style=\"text-align: right;\">\n",
       "      <th></th>\n",
       "      <th>Open</th>\n",
       "      <th>High</th>\n",
       "      <th>Low</th>\n",
       "      <th>Close</th>\n",
       "      <th>Adj Close</th>\n",
       "      <th>Volume</th>\n",
       "    </tr>\n",
       "    <tr>\n",
       "      <th>Date</th>\n",
       "      <th></th>\n",
       "      <th></th>\n",
       "      <th></th>\n",
       "      <th></th>\n",
       "      <th></th>\n",
       "      <th></th>\n",
       "    </tr>\n",
       "  </thead>\n",
       "  <tbody>\n",
       "    <tr>\n",
       "      <th>2024-07-01</th>\n",
       "      <td>12.02</td>\n",
       "      <td>12.29</td>\n",
       "      <td>11.88</td>\n",
       "      <td>12.14</td>\n",
       "      <td>12.14</td>\n",
       "      <td>16498900</td>\n",
       "    </tr>\n",
       "    <tr>\n",
       "      <th>2024-07-02</th>\n",
       "      <td>12.10</td>\n",
       "      <td>12.33</td>\n",
       "      <td>11.95</td>\n",
       "      <td>12.17</td>\n",
       "      <td>12.17</td>\n",
       "      <td>15119100</td>\n",
       "    </tr>\n",
       "    <tr>\n",
       "      <th>2024-07-03</th>\n",
       "      <td>12.26</td>\n",
       "      <td>12.73</td>\n",
       "      <td>12.26</td>\n",
       "      <td>12.58</td>\n",
       "      <td>12.58</td>\n",
       "      <td>17333200</td>\n",
       "    </tr>\n",
       "    <tr>\n",
       "      <th>2024-07-04</th>\n",
       "      <td>12.85</td>\n",
       "      <td>13.46</td>\n",
       "      <td>12.83</td>\n",
       "      <td>13.18</td>\n",
       "      <td>13.18</td>\n",
       "      <td>23480800</td>\n",
       "    </tr>\n",
       "    <tr>\n",
       "      <th>2024-07-05</th>\n",
       "      <td>13.11</td>\n",
       "      <td>13.73</td>\n",
       "      <td>13.06</td>\n",
       "      <td>13.69</td>\n",
       "      <td>13.69</td>\n",
       "      <td>27239900</td>\n",
       "    </tr>\n",
       "    <tr>\n",
       "      <th>2024-07-08</th>\n",
       "      <td>13.48</td>\n",
       "      <td>13.59</td>\n",
       "      <td>12.77</td>\n",
       "      <td>12.89</td>\n",
       "      <td>12.89</td>\n",
       "      <td>24871900</td>\n",
       "    </tr>\n",
       "    <tr>\n",
       "      <th>2024-07-09</th>\n",
       "      <td>12.90</td>\n",
       "      <td>13.55</td>\n",
       "      <td>12.83</td>\n",
       "      <td>13.51</td>\n",
       "      <td>13.51</td>\n",
       "      <td>16900000</td>\n",
       "    </tr>\n",
       "    <tr>\n",
       "      <th>2024-07-10</th>\n",
       "      <td>13.90</td>\n",
       "      <td>14.14</td>\n",
       "      <td>13.42</td>\n",
       "      <td>13.47</td>\n",
       "      <td>13.47</td>\n",
       "      <td>22283100</td>\n",
       "    </tr>\n",
       "    <tr>\n",
       "      <th>2024-07-11</th>\n",
       "      <td>13.97</td>\n",
       "      <td>14.04</td>\n",
       "      <td>13.63</td>\n",
       "      <td>13.71</td>\n",
       "      <td>13.71</td>\n",
       "      <td>13490500</td>\n",
       "    </tr>\n",
       "    <tr>\n",
       "      <th>2024-07-12</th>\n",
       "      <td>13.71</td>\n",
       "      <td>13.94</td>\n",
       "      <td>13.54</td>\n",
       "      <td>13.87</td>\n",
       "      <td>13.87</td>\n",
       "      <td>14197100</td>\n",
       "    </tr>\n",
       "    <tr>\n",
       "      <th>2024-07-15</th>\n",
       "      <td>13.85</td>\n",
       "      <td>14.33</td>\n",
       "      <td>13.65</td>\n",
       "      <td>14.33</td>\n",
       "      <td>14.33</td>\n",
       "      <td>19057800</td>\n",
       "    </tr>\n",
       "    <tr>\n",
       "      <th>2024-07-16</th>\n",
       "      <td>14.29</td>\n",
       "      <td>14.42</td>\n",
       "      <td>13.54</td>\n",
       "      <td>13.63</td>\n",
       "      <td>13.63</td>\n",
       "      <td>27058500</td>\n",
       "    </tr>\n",
       "    <tr>\n",
       "      <th>2024-07-17</th>\n",
       "      <td>13.60</td>\n",
       "      <td>13.87</td>\n",
       "      <td>13.36</td>\n",
       "      <td>13.46</td>\n",
       "      <td>13.46</td>\n",
       "      <td>18666300</td>\n",
       "    </tr>\n",
       "    <tr>\n",
       "      <th>2024-07-18</th>\n",
       "      <td>0.00</td>\n",
       "      <td>0.00</td>\n",
       "      <td>0.00</td>\n",
       "      <td>12.67</td>\n",
       "      <td>12.67</td>\n",
       "      <td>0</td>\n",
       "    </tr>\n",
       "  </tbody>\n",
       "</table>\n",
       "</div>"
      ],
      "text/plain": [
       "             Open   High    Low  Close  Adj Close    Volume\n",
       "Date                                                       \n",
       "2024-07-01  12.02  12.29  11.88  12.14      12.14  16498900\n",
       "2024-07-02  12.10  12.33  11.95  12.17      12.17  15119100\n",
       "2024-07-03  12.26  12.73  12.26  12.58      12.58  17333200\n",
       "2024-07-04  12.85  13.46  12.83  13.18      13.18  23480800\n",
       "2024-07-05  13.11  13.73  13.06  13.69      13.69  27239900\n",
       "2024-07-08  13.48  13.59  12.77  12.89      12.89  24871900\n",
       "2024-07-09  12.90  13.55  12.83  13.51      13.51  16900000\n",
       "2024-07-10  13.90  14.14  13.42  13.47      13.47  22283100\n",
       "2024-07-11  13.97  14.04  13.63  13.71      13.71  13490500\n",
       "2024-07-12  13.71  13.94  13.54  13.87      13.87  14197100\n",
       "2024-07-15  13.85  14.33  13.65  14.33      14.33  19057800\n",
       "2024-07-16  14.29  14.42  13.54  13.63      13.63  27058500\n",
       "2024-07-17  13.60  13.87  13.36  13.46      13.46  18666300\n",
       "2024-07-18   0.00   0.00   0.00  12.67      12.67         0"
      ]
     },
     "execution_count": 23,
     "metadata": {},
     "output_type": "execute_result"
    }
   ],
   "source": [
    "ptbr = yf.download('MGLU3.SA', start= '2024-07-01')\n",
    "ptbr"
   ]
  },
  {
   "cell_type": "code",
   "execution_count": 24,
   "metadata": {},
   "outputs": [
    {
     "data": {
      "text/plain": [
       "pandas.core.frame.DataFrame"
      ]
     },
     "execution_count": 24,
     "metadata": {},
     "output_type": "execute_result"
    }
   ],
   "source": [
    "type(ptbr)"
   ]
  },
  {
   "cell_type": "code",
   "execution_count": 25,
   "metadata": {},
   "outputs": [
    {
     "data": {
      "text/html": [
       "<div>\n",
       "<style scoped>\n",
       "    .dataframe tbody tr th:only-of-type {\n",
       "        vertical-align: middle;\n",
       "    }\n",
       "\n",
       "    .dataframe tbody tr th {\n",
       "        vertical-align: top;\n",
       "    }\n",
       "\n",
       "    .dataframe thead th {\n",
       "        text-align: right;\n",
       "    }\n",
       "</style>\n",
       "<table border=\"1\" class=\"dataframe\">\n",
       "  <thead>\n",
       "    <tr style=\"text-align: right;\">\n",
       "      <th></th>\n",
       "      <th>Open</th>\n",
       "      <th>High</th>\n",
       "      <th>Low</th>\n",
       "      <th>Close</th>\n",
       "      <th>Adj Close</th>\n",
       "      <th>Volume</th>\n",
       "    </tr>\n",
       "    <tr>\n",
       "      <th>Date</th>\n",
       "      <th></th>\n",
       "      <th></th>\n",
       "      <th></th>\n",
       "      <th></th>\n",
       "      <th></th>\n",
       "      <th></th>\n",
       "    </tr>\n",
       "  </thead>\n",
       "  <tbody>\n",
       "    <tr>\n",
       "      <th>2024-07-01</th>\n",
       "      <td>12.02</td>\n",
       "      <td>12.29</td>\n",
       "      <td>11.88</td>\n",
       "      <td>12.14</td>\n",
       "      <td>12.14</td>\n",
       "      <td>16498900</td>\n",
       "    </tr>\n",
       "    <tr>\n",
       "      <th>2024-07-02</th>\n",
       "      <td>12.10</td>\n",
       "      <td>12.33</td>\n",
       "      <td>11.95</td>\n",
       "      <td>12.17</td>\n",
       "      <td>12.17</td>\n",
       "      <td>15119100</td>\n",
       "    </tr>\n",
       "    <tr>\n",
       "      <th>2024-07-03</th>\n",
       "      <td>12.26</td>\n",
       "      <td>12.73</td>\n",
       "      <td>12.26</td>\n",
       "      <td>12.58</td>\n",
       "      <td>12.58</td>\n",
       "      <td>17333200</td>\n",
       "    </tr>\n",
       "    <tr>\n",
       "      <th>2024-07-04</th>\n",
       "      <td>12.85</td>\n",
       "      <td>13.46</td>\n",
       "      <td>12.83</td>\n",
       "      <td>13.18</td>\n",
       "      <td>13.18</td>\n",
       "      <td>23480800</td>\n",
       "    </tr>\n",
       "    <tr>\n",
       "      <th>2024-07-05</th>\n",
       "      <td>13.11</td>\n",
       "      <td>13.73</td>\n",
       "      <td>13.06</td>\n",
       "      <td>13.69</td>\n",
       "      <td>13.69</td>\n",
       "      <td>27239900</td>\n",
       "    </tr>\n",
       "  </tbody>\n",
       "</table>\n",
       "</div>"
      ],
      "text/plain": [
       "             Open   High    Low  Close  Adj Close    Volume\n",
       "Date                                                       \n",
       "2024-07-01  12.02  12.29  11.88  12.14      12.14  16498900\n",
       "2024-07-02  12.10  12.33  11.95  12.17      12.17  15119100\n",
       "2024-07-03  12.26  12.73  12.26  12.58      12.58  17333200\n",
       "2024-07-04  12.85  13.46  12.83  13.18      13.18  23480800\n",
       "2024-07-05  13.11  13.73  13.06  13.69      13.69  27239900"
      ]
     },
     "execution_count": 25,
     "metadata": {},
     "output_type": "execute_result"
    }
   ],
   "source": [
    "ptbr.head()"
   ]
  },
  {
   "cell_type": "code",
   "execution_count": 26,
   "metadata": {},
   "outputs": [
    {
     "data": {
      "text/plain": [
       "Date\n",
       "2024-07-01    12.02\n",
       "2024-07-02    12.10\n",
       "2024-07-03    12.26\n",
       "2024-07-04    12.85\n",
       "2024-07-05    13.11\n",
       "2024-07-08    13.48\n",
       "2024-07-09    12.90\n",
       "2024-07-10    13.90\n",
       "2024-07-11    13.97\n",
       "2024-07-12    13.71\n",
       "2024-07-15    13.85\n",
       "2024-07-16    14.29\n",
       "2024-07-17    13.60\n",
       "2024-07-18     0.00\n",
       "Name: Open, dtype: float64"
      ]
     },
     "execution_count": 26,
     "metadata": {},
     "output_type": "execute_result"
    }
   ],
   "source": [
    "ptbr['Open']"
   ]
  },
  {
   "cell_type": "code",
   "execution_count": 27,
   "metadata": {},
   "outputs": [
    {
     "data": {
      "text/plain": [
       "<Axes: xlabel='Date'>"
      ]
     },
     "execution_count": 27,
     "metadata": {},
     "output_type": "execute_result"
    },
    {
     "data": {
      "image/png": "[encoded data removed]",
      "text/plain": [
       "<Figure size 640x480 with 1 Axes>"
      ]
     },
     "metadata": {},
     "output_type": "display_data"
    }
   ],
   "source": [
    "ptbr.plot()"
   ]
  },
  {
   "cell_type": "code",
   "execution_count": 28,
   "metadata": {},
   "outputs": [],
   "source": [
    "PTBR_final_prices = pd.DataFrame(ptbr['Close'])"
   ]
  },
  {
   "cell_type": "code",
   "execution_count": 29,
   "metadata": {},
   "outputs": [
    {
     "data": {
      "text/html": [
       "<div>\n",
       "<style scoped>\n",
       "    .dataframe tbody tr th:only-of-type {\n",
       "        vertical-align: middle;\n",
       "    }\n",
       "\n",
       "    .dataframe tbody tr th {\n",
       "        vertical-align: top;\n",
       "    }\n",
       "\n",
       "    .dataframe thead th {\n",
       "        text-align: right;\n",
       "    }\n",
       "</style>\n",
       "<table border=\"1\" class=\"dataframe\">\n",
       "  <thead>\n",
       "    <tr style=\"text-align: right;\">\n",
       "      <th></th>\n",
       "      <th>Close</th>\n",
       "    </tr>\n",
       "    <tr>\n",
       "      <th>Date</th>\n",
       "      <th></th>\n",
       "    </tr>\n",
       "  </thead>\n",
       "  <tbody>\n",
       "    <tr>\n",
       "      <th>2024-07-01</th>\n",
       "      <td>12.14</td>\n",
       "    </tr>\n",
       "    <tr>\n",
       "      <th>2024-07-02</th>\n",
       "      <td>12.17</td>\n",
       "    </tr>\n",
       "    <tr>\n",
       "      <th>2024-07-03</th>\n",
       "      <td>12.58</td>\n",
       "    </tr>\n",
       "    <tr>\n",
       "      <th>2024-07-04</th>\n",
       "      <td>13.18</td>\n",
       "    </tr>\n",
       "    <tr>\n",
       "      <th>2024-07-05</th>\n",
       "      <td>13.69</td>\n",
       "    </tr>\n",
       "    <tr>\n",
       "      <th>2024-07-08</th>\n",
       "      <td>12.89</td>\n",
       "    </tr>\n",
       "    <tr>\n",
       "      <th>2024-07-09</th>\n",
       "      <td>13.51</td>\n",
       "    </tr>\n",
       "    <tr>\n",
       "      <th>2024-07-10</th>\n",
       "      <td>13.47</td>\n",
       "    </tr>\n",
       "    <tr>\n",
       "      <th>2024-07-11</th>\n",
       "      <td>13.71</td>\n",
       "    </tr>\n",
       "    <tr>\n",
       "      <th>2024-07-12</th>\n",
       "      <td>13.87</td>\n",
       "    </tr>\n",
       "    <tr>\n",
       "      <th>2024-07-15</th>\n",
       "      <td>14.33</td>\n",
       "    </tr>\n",
       "    <tr>\n",
       "      <th>2024-07-16</th>\n",
       "      <td>13.63</td>\n",
       "    </tr>\n",
       "    <tr>\n",
       "      <th>2024-07-17</th>\n",
       "      <td>13.46</td>\n",
       "    </tr>\n",
       "    <tr>\n",
       "      <th>2024-07-18</th>\n",
       "      <td>12.67</td>\n",
       "    </tr>\n",
       "  </tbody>\n",
       "</table>\n",
       "</div>"
      ],
      "text/plain": [
       "            Close\n",
       "Date             \n",
       "2024-07-01  12.14\n",
       "2024-07-02  12.17\n",
       "2024-07-03  12.58\n",
       "2024-07-04  13.18\n",
       "2024-07-05  13.69\n",
       "2024-07-08  12.89\n",
       "2024-07-09  13.51\n",
       "2024-07-10  13.47\n",
       "2024-07-11  13.71\n",
       "2024-07-12  13.87\n",
       "2024-07-15  14.33\n",
       "2024-07-16  13.63\n",
       "2024-07-17  13.46\n",
       "2024-07-18  12.67"
      ]
     },
     "execution_count": 29,
     "metadata": {},
     "output_type": "execute_result"
    }
   ],
   "source": [
    "PTBR_final_prices"
   ]
  },
  {
   "cell_type": "code",
   "execution_count": 30,
   "metadata": {},
   "outputs": [
    {
     "data": {
      "text/html": [
       "<div>\n",
       "<style scoped>\n",
       "    .dataframe tbody tr th:only-of-type {\n",
       "        vertical-align: middle;\n",
       "    }\n",
       "\n",
       "    .dataframe tbody tr th {\n",
       "        vertical-align: top;\n",
       "    }\n",
       "\n",
       "    .dataframe thead th {\n",
       "        text-align: right;\n",
       "    }\n",
       "</style>\n",
       "<table border=\"1\" class=\"dataframe\">\n",
       "  <thead>\n",
       "    <tr style=\"text-align: right;\">\n",
       "      <th></th>\n",
       "      <th>Close</th>\n",
       "    </tr>\n",
       "    <tr>\n",
       "      <th>Date</th>\n",
       "      <th></th>\n",
       "    </tr>\n",
       "  </thead>\n",
       "  <tbody>\n",
       "    <tr>\n",
       "      <th>2024-07-01</th>\n",
       "      <td>False</td>\n",
       "    </tr>\n",
       "    <tr>\n",
       "      <th>2024-07-02</th>\n",
       "      <td>False</td>\n",
       "    </tr>\n",
       "    <tr>\n",
       "      <th>2024-07-03</th>\n",
       "      <td>False</td>\n",
       "    </tr>\n",
       "    <tr>\n",
       "      <th>2024-07-04</th>\n",
       "      <td>False</td>\n",
       "    </tr>\n",
       "    <tr>\n",
       "      <th>2024-07-05</th>\n",
       "      <td>False</td>\n",
       "    </tr>\n",
       "    <tr>\n",
       "      <th>2024-07-08</th>\n",
       "      <td>False</td>\n",
       "    </tr>\n",
       "    <tr>\n",
       "      <th>2024-07-09</th>\n",
       "      <td>False</td>\n",
       "    </tr>\n",
       "    <tr>\n",
       "      <th>2024-07-10</th>\n",
       "      <td>False</td>\n",
       "    </tr>\n",
       "    <tr>\n",
       "      <th>2024-07-11</th>\n",
       "      <td>False</td>\n",
       "    </tr>\n",
       "    <tr>\n",
       "      <th>2024-07-12</th>\n",
       "      <td>False</td>\n",
       "    </tr>\n",
       "    <tr>\n",
       "      <th>2024-07-15</th>\n",
       "      <td>False</td>\n",
       "    </tr>\n",
       "    <tr>\n",
       "      <th>2024-07-16</th>\n",
       "      <td>False</td>\n",
       "    </tr>\n",
       "    <tr>\n",
       "      <th>2024-07-17</th>\n",
       "      <td>False</td>\n",
       "    </tr>\n",
       "    <tr>\n",
       "      <th>2024-07-18</th>\n",
       "      <td>False</td>\n",
       "    </tr>\n",
       "  </tbody>\n",
       "</table>\n",
       "</div>"
      ],
      "text/plain": [
       "            Close\n",
       "Date             \n",
       "2024-07-01  False\n",
       "2024-07-02  False\n",
       "2024-07-03  False\n",
       "2024-07-04  False\n",
       "2024-07-05  False\n",
       "2024-07-08  False\n",
       "2024-07-09  False\n",
       "2024-07-10  False\n",
       "2024-07-11  False\n",
       "2024-07-12  False\n",
       "2024-07-15  False\n",
       "2024-07-16  False\n",
       "2024-07-17  False\n",
       "2024-07-18  False"
      ]
     },
     "execution_count": 30,
     "metadata": {},
     "output_type": "execute_result"
    }
   ],
   "source": [
    "PTBR_final_prices.isnull()"
   ]
  },
  {
   "cell_type": "code",
   "execution_count": 31,
   "metadata": {},
   "outputs": [
    {
     "data": {
      "text/html": [
       "<div>\n",
       "<style scoped>\n",
       "    .dataframe tbody tr th:only-of-type {\n",
       "        vertical-align: middle;\n",
       "    }\n",
       "\n",
       "    .dataframe tbody tr th {\n",
       "        vertical-align: top;\n",
       "    }\n",
       "\n",
       "    .dataframe thead th {\n",
       "        text-align: right;\n",
       "    }\n",
       "</style>\n",
       "<table border=\"1\" class=\"dataframe\">\n",
       "  <thead>\n",
       "    <tr style=\"text-align: right;\">\n",
       "      <th></th>\n",
       "      <th>Close</th>\n",
       "    </tr>\n",
       "    <tr>\n",
       "      <th>Date</th>\n",
       "      <th></th>\n",
       "    </tr>\n",
       "  </thead>\n",
       "  <tbody>\n",
       "    <tr>\n",
       "      <th>2024-07-01</th>\n",
       "      <td>True</td>\n",
       "    </tr>\n",
       "    <tr>\n",
       "      <th>2024-07-02</th>\n",
       "      <td>True</td>\n",
       "    </tr>\n",
       "    <tr>\n",
       "      <th>2024-07-03</th>\n",
       "      <td>True</td>\n",
       "    </tr>\n",
       "    <tr>\n",
       "      <th>2024-07-04</th>\n",
       "      <td>True</td>\n",
       "    </tr>\n",
       "    <tr>\n",
       "      <th>2024-07-05</th>\n",
       "      <td>True</td>\n",
       "    </tr>\n",
       "    <tr>\n",
       "      <th>2024-07-08</th>\n",
       "      <td>True</td>\n",
       "    </tr>\n",
       "    <tr>\n",
       "      <th>2024-07-09</th>\n",
       "      <td>True</td>\n",
       "    </tr>\n",
       "    <tr>\n",
       "      <th>2024-07-10</th>\n",
       "      <td>True</td>\n",
       "    </tr>\n",
       "    <tr>\n",
       "      <th>2024-07-11</th>\n",
       "      <td>True</td>\n",
       "    </tr>\n",
       "    <tr>\n",
       "      <th>2024-07-12</th>\n",
       "      <td>True</td>\n",
       "    </tr>\n",
       "    <tr>\n",
       "      <th>2024-07-15</th>\n",
       "      <td>True</td>\n",
       "    </tr>\n",
       "    <tr>\n",
       "      <th>2024-07-16</th>\n",
       "      <td>True</td>\n",
       "    </tr>\n",
       "    <tr>\n",
       "      <th>2024-07-17</th>\n",
       "      <td>True</td>\n",
       "    </tr>\n",
       "    <tr>\n",
       "      <th>2024-07-18</th>\n",
       "      <td>True</td>\n",
       "    </tr>\n",
       "  </tbody>\n",
       "</table>\n",
       "</div>"
      ],
      "text/plain": [
       "            Close\n",
       "Date             \n",
       "2024-07-01   True\n",
       "2024-07-02   True\n",
       "2024-07-03   True\n",
       "2024-07-04   True\n",
       "2024-07-05   True\n",
       "2024-07-08   True\n",
       "2024-07-09   True\n",
       "2024-07-10   True\n",
       "2024-07-11   True\n",
       "2024-07-12   True\n",
       "2024-07-15   True\n",
       "2024-07-16   True\n",
       "2024-07-17   True\n",
       "2024-07-18   True"
      ]
     },
     "execution_count": 31,
     "metadata": {},
     "output_type": "execute_result"
    }
   ],
   "source": [
    "PTBR_final_prices.notnull()"
   ]
  },
  {
   "cell_type": "markdown",
   "metadata": {},
   "source": [
    "<h3>Operações com Datas</h3>"
   ]
  },
  {
   "cell_type": "code",
   "execution_count": 33,
   "metadata": {},
   "outputs": [
    {
     "data": {
      "text/plain": [
       "DatetimeIndex(['1970-01-01 00:00:00.000002015',\n",
       "               '1970-01-01 00:00:00.000001931',\n",
       "               '1970-01-01 00:00:00.000001848',\n",
       "               '1970-01-01 00:00:00.000001764',\n",
       "               '1970-01-01 00:00:00.000001681',\n",
       "               '1970-01-01 00:00:00.000001597',\n",
       "               '1970-01-01 00:00:00.000001514',\n",
       "               '1970-01-01 00:00:00.000001430',\n",
       "               '1970-01-01 00:00:00.000001347',\n",
       "               '1970-01-01 00:00:00.000001263',\n",
       "               '1970-01-01 00:00:00.000001180',\n",
       "               '1970-01-01 00:00:00.000001096',\n",
       "               '1970-01-01 00:00:00.000001013',\n",
       "               '1970-01-01 00:00:00.000000930',\n",
       "               '1970-01-01 00:00:00.000000846',\n",
       "               '1970-01-01 00:00:00.000000763',\n",
       "               '1970-01-01 00:00:00.000000679',\n",
       "               '1970-01-01 00:00:00.000000596',\n",
       "               '1970-01-01 00:00:00.000000512',\n",
       "               '1970-01-01 00:00:00.000000429',\n",
       "               '1970-01-01 00:00:00.000000345',\n",
       "               '1970-01-01 00:00:00.000000262',\n",
       "               '1970-01-01 00:00:00.000000178',\n",
       "               '1970-01-01 00:00:00.000000095',\n",
       "               '1970-01-01 00:00:00.000000012'],\n",
       "              dtype='datetime64[ns]', freq=None)"
      ]
     },
     "execution_count": 33,
     "metadata": {},
     "output_type": "execute_result"
    }
   ],
   "source": [
    "natal = pd.date_range(2015,12,25)\n",
    "natal"
   ]
  },
  {
   "cell_type": "code",
   "execution_count": 34,
   "metadata": {},
   "outputs": [
    {
     "data": {
      "text/plain": [
       "DatetimeIndex(['1970-01-02 00:00:00.000002015',\n",
       "               '1970-01-02 00:00:00.000001931',\n",
       "               '1970-01-02 00:00:00.000001848',\n",
       "               '1970-01-02 00:00:00.000001764',\n",
       "               '1970-01-02 00:00:00.000001681',\n",
       "               '1970-01-02 00:00:00.000001597',\n",
       "               '1970-01-02 00:00:00.000001514',\n",
       "               '1970-01-02 00:00:00.000001430',\n",
       "               '1970-01-02 00:00:00.000001347',\n",
       "               '1970-01-02 00:00:00.000001263',\n",
       "               '1970-01-02 00:00:00.000001180',\n",
       "               '1970-01-02 00:00:00.000001096',\n",
       "               '1970-01-02 00:00:00.000001013',\n",
       "               '1970-01-02 00:00:00.000000930',\n",
       "               '1970-01-02 00:00:00.000000846',\n",
       "               '1970-01-02 00:00:00.000000763',\n",
       "               '1970-01-02 00:00:00.000000679',\n",
       "               '1970-01-02 00:00:00.000000596',\n",
       "               '1970-01-02 00:00:00.000000512',\n",
       "               '1970-01-02 00:00:00.000000429',\n",
       "               '1970-01-02 00:00:00.000000345',\n",
       "               '1970-01-02 00:00:00.000000262',\n",
       "               '1970-01-02 00:00:00.000000178',\n",
       "               '1970-01-02 00:00:00.000000095',\n",
       "               '1970-01-02 00:00:00.000000012'],\n",
       "              dtype='datetime64[ns]', freq=None)"
      ]
     },
     "execution_count": 34,
     "metadata": {},
     "output_type": "execute_result"
    }
   ],
   "source": [
    "boxingDay = natal + pd.DateOffset(days = 1)\n",
    "boxingDay"
   ]
  },
  {
   "cell_type": "code",
   "execution_count": 19,
   "metadata": {},
   "outputs": [
    {
     "data": {
      "text/plain": [
       "Timestamp('2016-01-02 00:00:00')"
      ]
     },
     "execution_count": 19,
     "metadata": {},
     "output_type": "execute_result"
    }
   ],
   "source": [
    "boxingDay + pd.DateOffset(weeks = 1)"
   ]
  },
  {
   "cell_type": "code",
   "execution_count": 20,
   "metadata": {},
   "outputs": [
    {
     "data": {
      "text/plain": [
       "Timestamp('2020-12-26 00:00:00')"
      ]
     },
     "execution_count": 20,
     "metadata": {},
     "output_type": "execute_result"
    }
   ],
   "source": [
    "boxingDay + 2 * pd.DateOffset(years = 2, months = 6)"
   ]
  },
  {
   "cell_type": "code",
   "execution_count": 21,
   "metadata": {
    "collapsed": true
   },
   "outputs": [],
   "source": [
    "lastDay = pd.datetime(2016,12,31)"
   ]
  },
  {
   "cell_type": "code",
   "execution_count": 22,
   "metadata": {},
   "outputs": [],
   "source": [
    "from pandas.tseries.offsets import QuarterBegin"
   ]
  },
  {
   "cell_type": "code",
   "execution_count": 23,
   "metadata": {},
   "outputs": [
    {
     "data": {
      "text/plain": [
       "Timestamp('2017-03-01 00:00:00')"
      ]
     },
     "execution_count": 23,
     "metadata": {},
     "output_type": "execute_result"
    }
   ],
   "source": [
    "dtoffset = QuarterBegin()\n",
    "lastDay + dtoffset"
   ]
  },
  {
   "cell_type": "code",
   "execution_count": 24,
   "metadata": {
    "collapsed": true
   },
   "outputs": [],
   "source": [
    "firstQuarterLastDay = pd.datetime(2015,3,31)"
   ]
  },
  {
   "cell_type": "code",
   "execution_count": 25,
   "metadata": {},
   "outputs": [
    {
     "data": {
      "text/plain": [
       "Timestamp('2015-06-01 00:00:00')"
      ]
     },
     "execution_count": 25,
     "metadata": {},
     "output_type": "execute_result"
    }
   ],
   "source": [
    "dtoffset.rollforward(firstQuarterLastDay)"
   ]
  },
  {
   "cell_type": "code",
   "execution_count": 38,
   "metadata": {},
   "outputs": [
    {
     "data": {
      "text/plain": [
       "datetime.date(2024, 7, 18)"
      ]
     },
     "execution_count": 38,
     "metadata": {},
     "output_type": "execute_result"
    }
   ],
   "source": [
    "today = datetime.date.today()\n",
    "today"
   ]
  },
  {
   "cell_type": "markdown",
   "metadata": {
    "collapsed": true
   },
   "source": [
    "<b> 1 semana a partir de hoje</b>"
   ]
  },
  {
   "cell_type": "code",
   "execution_count": 39,
   "metadata": {},
   "outputs": [
    {
     "data": {
      "text/plain": [
       "Timestamp('2024-07-25 00:00:00')"
      ]
     },
     "execution_count": 39,
     "metadata": {},
     "output_type": "execute_result"
    }
   ],
   "source": [
    "today + pd.DateOffset(weeks = 1)"
   ]
  },
  {
   "cell_type": "markdown",
   "metadata": {},
   "source": [
    "<b>5 anos a partir de hoje</b>"
   ]
  },
  {
   "cell_type": "code",
   "execution_count": 40,
   "metadata": {},
   "outputs": [
    {
     "data": {
      "text/plain": [
       "Timestamp('2029-07-18 00:00:00')"
      ]
     },
     "execution_count": 40,
     "metadata": {},
     "output_type": "execute_result"
    }
   ],
   "source": [
    "today + 2 * pd.DateOffset(years = 2, months = 6)"
   ]
  },
  {
   "cell_type": "markdown",
   "metadata": {},
   "source": [
    "<h3>Conversão entre tipos de dados para Séries Temporais</h3>"
   ]
  },
  {
   "cell_type": "code",
   "execution_count": 29,
   "metadata": {},
   "outputs": [
    {
     "data": {
      "text/plain": [
       "Timestamp('2015-07-13 00:00:00')"
      ]
     },
     "execution_count": 29,
     "metadata": {},
     "output_type": "execute_result"
    }
   ],
   "source": [
    "worldCupFinal = pd.to_datetime('07/13/2015')\n",
    "worldCupFinal"
   ]
  },
  {
   "cell_type": "code",
   "execution_count": 30,
   "metadata": {},
   "outputs": [
    {
     "data": {
      "text/plain": [
       "Period('2015-07-13', 'D')"
      ]
     },
     "execution_count": 30,
     "metadata": {},
     "output_type": "execute_result"
    }
   ],
   "source": [
    "worldCupFinal.to_period('D')"
   ]
  },
  {
   "cell_type": "code",
   "execution_count": 31,
   "metadata": {},
   "outputs": [
    {
     "data": {
      "text/plain": [
       "Period('2015-06-12', 'D')"
      ]
     },
     "execution_count": 31,
     "metadata": {},
     "output_type": "execute_result"
    }
   ],
   "source": [
    "worldCupKickoff=pd.Period('06/12/2015','D')\n",
    "worldCupKickoff"
   ]
  },
  {
   "cell_type": "code",
   "execution_count": 32,
   "metadata": {},
   "outputs": [
    {
     "data": {
      "text/plain": [
       "Timestamp('2015-06-12 00:00:00')"
      ]
     },
     "execution_count": 32,
     "metadata": {},
     "output_type": "execute_result"
    }
   ],
   "source": [
    "worldCupKickoff.to_timestamp()"
   ]
  },
  {
   "cell_type": "code",
   "execution_count": 33,
   "metadata": {},
   "outputs": [
    {
     "data": {
      "text/plain": [
       "DatetimeIndex(['2014-06-12', '2014-06-13', '2014-06-14', '2014-06-15',\n",
       "               '2014-06-16', '2014-06-17', '2014-06-18', '2014-06-19',\n",
       "               '2014-06-20', '2014-06-21', '2014-06-22', '2014-06-23',\n",
       "               '2014-06-24', '2014-06-25', '2014-06-26', '2014-06-27',\n",
       "               '2014-06-28', '2014-06-29', '2014-06-30', '2014-07-01',\n",
       "               '2014-07-02', '2014-07-03', '2014-07-04', '2014-07-05',\n",
       "               '2014-07-06', '2014-07-07', '2014-07-08', '2014-07-09',\n",
       "               '2014-07-10', '2014-07-11', '2014-07-12', '2014-07-13'],\n",
       "              dtype='datetime64[ns]', freq='D')"
      ]
     },
     "execution_count": 33,
     "metadata": {},
     "output_type": "execute_result"
    }
   ],
   "source": [
    "worldCupDays=pd.date_range('06/12/2014', periods = 32, freq = 'D')\n",
    "worldCupDays"
   ]
  },
  {
   "cell_type": "code",
   "execution_count": 34,
   "metadata": {},
   "outputs": [
    {
     "data": {
      "text/plain": [
       "PeriodIndex(['2014-06-12', '2014-06-13', '2014-06-14', '2014-06-15',\n",
       "             '2014-06-16', '2014-06-17', '2014-06-18', '2014-06-19',\n",
       "             '2014-06-20', '2014-06-21', '2014-06-22', '2014-06-23',\n",
       "             '2014-06-24', '2014-06-25', '2014-06-26', '2014-06-27',\n",
       "             '2014-06-28', '2014-06-29', '2014-06-30', '2014-07-01',\n",
       "             '2014-07-02', '2014-07-03', '2014-07-04', '2014-07-05',\n",
       "             '2014-07-06', '2014-07-07', '2014-07-08', '2014-07-09',\n",
       "             '2014-07-10', '2014-07-11', '2014-07-12', '2014-07-13'],\n",
       "            dtype='int64', freq='D')"
      ]
     },
     "execution_count": 34,
     "metadata": {},
     "output_type": "execute_result"
    }
   ],
   "source": [
    "worldCupDays.to_period()"
   ]
  },
  {
   "cell_type": "markdown",
   "metadata": {},
   "source": [
    "<h2>Plot com Matplotlib</h2>"
   ]
  },
  {
   "cell_type": "code",
   "execution_count": 35,
   "metadata": {
    "collapsed": true
   },
   "outputs": [],
   "source": [
    "import numpy as np"
   ]
  },
  {
   "cell_type": "code",
   "execution_count": 36,
   "metadata": {},
   "outputs": [],
   "source": [
    "X = np.linspace(-np.pi, np.pi, 256, endpoint = True)"
   ]
  },
  {
   "cell_type": "code",
   "execution_count": 37,
   "metadata": {
    "collapsed": true
   },
   "outputs": [],
   "source": [
    "f,g = np.cos(X) + np.sin(X), np.sin(X) - np.cos(X)"
   ]
  },
  {
   "cell_type": "code",
   "execution_count": 38,
   "metadata": {
    "collapsed": true
   },
   "outputs": [],
   "source": [
    "f_serie = pd.Series(f)\n",
    "g_serie = pd.Series(g)"
   ]
  },
  {
   "cell_type": "code",
   "execution_count": 39,
   "metadata": {},
   "outputs": [
    {
     "data": {
      "text/html": [
       "<div>\n",
       "<table border=\"1\" class=\"dataframe\">\n",
       "  <thead>\n",
       "    <tr style=\"text-align: right;\">\n",
       "      <th></th>\n",
       "      <th>sin(x)+cos(x)</th>\n",
       "      <th>sin(x)-cos(x)</th>\n",
       "    </tr>\n",
       "  </thead>\n",
       "  <tbody>\n",
       "    <tr>\n",
       "      <th>-3.141593</th>\n",
       "      <td>-1.000000</td>\n",
       "      <td>1.000000</td>\n",
       "    </tr>\n",
       "    <tr>\n",
       "      <th>-3.116953</th>\n",
       "      <td>-1.024334</td>\n",
       "      <td>0.975059</td>\n",
       "    </tr>\n",
       "    <tr>\n",
       "      <th>-3.092313</th>\n",
       "      <td>-1.048046</td>\n",
       "      <td>0.949526</td>\n",
       "    </tr>\n",
       "    <tr>\n",
       "      <th>-3.067673</th>\n",
       "      <td>-1.071122</td>\n",
       "      <td>0.923417</td>\n",
       "    </tr>\n",
       "    <tr>\n",
       "      <th>-3.043033</th>\n",
       "      <td>-1.093547</td>\n",
       "      <td>0.896747</td>\n",
       "    </tr>\n",
       "  </tbody>\n",
       "</table>\n",
       "</div>"
      ],
      "text/plain": [
       "           sin(x)+cos(x)  sin(x)-cos(x)\n",
       "-3.141593      -1.000000       1.000000\n",
       "-3.116953      -1.024334       0.975059\n",
       "-3.092313      -1.048046       0.949526\n",
       "-3.067673      -1.071122       0.923417\n",
       "-3.043033      -1.093547       0.896747"
      ]
     },
     "execution_count": 39,
     "metadata": {},
     "output_type": "execute_result"
    }
   ],
   "source": [
    "plotDF = pd.concat([f_serie, g_serie], axis = 1)\n",
    "plotDF.index = X\n",
    "plotDF.columns = ['sin(x)+cos(x)','sin(x)-cos(x)']\n",
    "plotDF.head()"
   ]
  },
  {
   "cell_type": "code",
   "execution_count": 40,
   "metadata": {},
   "outputs": [
    {
     "data": {
      "image/png": "[encoded data removed]",
      "text/plain": [
       "<matplotlib.figure.Figure at 0x11adcf2e8>"
      ]
     },
     "metadata": {},
     "output_type": "display_data"
    }
   ],
   "source": [
    "plotDF.plot()\n",
    "plt.show()"
   ]
  },
  {
   "cell_type": "code",
   "execution_count": 41,
   "metadata": {},
   "outputs": [
    {
     "data": {
      "image/png": "[encoded data removed]",
      "text/plain": [
       "<matplotlib.figure.Figure at 0x11adf3fd0>"
      ]
     },
     "metadata": {},
     "output_type": "display_data"
    }
   ],
   "source": [
    "plotDF.columns = ['f(x)','g(x)']\n",
    "plotDF.plot(title = 'Plot de f(x)=sin(x)+cos(x), \\n         g(x)=sinx(x)-cos(x)')\n",
    "plt.show()"
   ]
  },
  {
   "cell_type": "code",
   "execution_count": 42,
   "metadata": {},
   "outputs": [
    {
     "data": {
      "image/png": "[encoded data removed]",
      "text/plain": [
       "<matplotlib.figure.Figure at 0x11ae737f0>"
      ]
     },
     "metadata": {},
     "output_type": "display_data"
    }
   ],
   "source": [
    "# Subplots\n",
    "plotDF.plot(subplots = True, figsize = (6,6))\n",
    "plt.show()"
   ]
  }
 ],
 "metadata": {
  "anaconda-cloud": {},
  "kernelspec": {
   "display_name": "Python 3",
   "language": "python",
   "name": "python3"
  },
  "language_info": {
   "codemirror_mode": {
    "name": "ipython",
    "version": 3
   },
   "file_extension": ".py",
   "mimetype": "text/x-python",
   "name": "python",
   "nbconvert_exporter": "python",
   "pygments_lexer": "ipython3",
   "version": "3.11.7"
  }
 },
 "nbformat": 4,
 "nbformat_minor": 1
}
